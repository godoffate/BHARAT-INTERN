{
 "cells": [
  {
   "cell_type": "code",
   "execution_count": 1,
   "id": "f70737bc-576d-4cfe-bcbc-9ad5c72f86f9",
   "metadata": {},
   "outputs": [],
   "source": [
    "import numpy as np\n",
    "import pandas as pd\n",
    "import matplotlib.pyplot as plt\n",
    "import seaborn as sns\n",
    "import klib\n",
    "\n",
    "from sklearn.preprocessing import StandardScaler\n",
    "from sklearn.model_selection import train_test_split, RandomizedSearchCV\n",
    "from sklearn.linear_model import LinearRegression, Lasso, Ridge\n",
    "from sklearn.ensemble import ExtraTreesClassifier\n",
    "from sklearn.metrics import r2_score"
   ]
  },
  {
   "cell_type": "code",
   "execution_count": 2,
   "id": "e12628f5-a759-4b3c-b073-4dedda2aec9e",
   "metadata": {},
   "outputs": [
    {
     "data": {
      "text/html": [
       "<div>\n",
       "<style scoped>\n",
       "    .dataframe tbody tr th:only-of-type {\n",
       "        vertical-align: middle;\n",
       "    }\n",
       "\n",
       "    .dataframe tbody tr th {\n",
       "        vertical-align: top;\n",
       "    }\n",
       "\n",
       "    .dataframe thead th {\n",
       "        text-align: right;\n",
       "    }\n",
       "</style>\n",
       "<table border=\"1\" class=\"dataframe\">\n",
       "  <thead>\n",
       "    <tr style=\"text-align: right;\">\n",
       "      <th></th>\n",
       "      <th>beds</th>\n",
       "      <th>baths</th>\n",
       "      <th>size</th>\n",
       "      <th>size_units</th>\n",
       "      <th>lot_size</th>\n",
       "      <th>lot_size_units</th>\n",
       "      <th>zip_code</th>\n",
       "      <th>price</th>\n",
       "    </tr>\n",
       "  </thead>\n",
       "  <tbody>\n",
       "    <tr>\n",
       "      <th>0</th>\n",
       "      <td>3</td>\n",
       "      <td>2.5</td>\n",
       "      <td>2590.0</td>\n",
       "      <td>sqft</td>\n",
       "      <td>6000.00</td>\n",
       "      <td>sqft</td>\n",
       "      <td>98144</td>\n",
       "      <td>795000.0</td>\n",
       "    </tr>\n",
       "    <tr>\n",
       "      <th>1</th>\n",
       "      <td>4</td>\n",
       "      <td>2.0</td>\n",
       "      <td>2240.0</td>\n",
       "      <td>sqft</td>\n",
       "      <td>0.31</td>\n",
       "      <td>acre</td>\n",
       "      <td>98106</td>\n",
       "      <td>915000.0</td>\n",
       "    </tr>\n",
       "    <tr>\n",
       "      <th>2</th>\n",
       "      <td>4</td>\n",
       "      <td>3.0</td>\n",
       "      <td>2040.0</td>\n",
       "      <td>sqft</td>\n",
       "      <td>3783.00</td>\n",
       "      <td>sqft</td>\n",
       "      <td>98107</td>\n",
       "      <td>950000.0</td>\n",
       "    </tr>\n",
       "    <tr>\n",
       "      <th>3</th>\n",
       "      <td>4</td>\n",
       "      <td>3.0</td>\n",
       "      <td>3800.0</td>\n",
       "      <td>sqft</td>\n",
       "      <td>5175.00</td>\n",
       "      <td>sqft</td>\n",
       "      <td>98199</td>\n",
       "      <td>1950000.0</td>\n",
       "    </tr>\n",
       "    <tr>\n",
       "      <th>4</th>\n",
       "      <td>2</td>\n",
       "      <td>2.0</td>\n",
       "      <td>1042.0</td>\n",
       "      <td>sqft</td>\n",
       "      <td>NaN</td>\n",
       "      <td>NaN</td>\n",
       "      <td>98102</td>\n",
       "      <td>950000.0</td>\n",
       "    </tr>\n",
       "  </tbody>\n",
       "</table>\n",
       "</div>"
      ],
      "text/plain": [
       "   beds  baths    size size_units  lot_size lot_size_units  zip_code  \\\n",
       "0     3    2.5  2590.0       sqft   6000.00           sqft     98144   \n",
       "1     4    2.0  2240.0       sqft      0.31           acre     98106   \n",
       "2     4    3.0  2040.0       sqft   3783.00           sqft     98107   \n",
       "3     4    3.0  3800.0       sqft   5175.00           sqft     98199   \n",
       "4     2    2.0  1042.0       sqft       NaN            NaN     98102   \n",
       "\n",
       "       price  \n",
       "0   795000.0  \n",
       "1   915000.0  \n",
       "2   950000.0  \n",
       "3  1950000.0  \n",
       "4   950000.0  "
      ]
     },
     "execution_count": 2,
     "metadata": {},
     "output_type": "execute_result"
    }
   ],
   "source": [
    "dt = pd.read_csv('train.csv')\n",
    "dt.head()"
   ]
  },
  {
   "cell_type": "code",
   "execution_count": 3,
   "id": "2784b233-f2f1-4a8b-a946-676e00588b2d",
   "metadata": {},
   "outputs": [
    {
     "name": "stdout",
     "output_type": "stream",
     "text": [
      "<class 'pandas.core.frame.DataFrame'>\n",
      "RangeIndex: 2016 entries, 0 to 2015\n",
      "Data columns (total 8 columns):\n",
      " #   Column          Non-Null Count  Dtype  \n",
      "---  ------          --------------  -----  \n",
      " 0   beds            2016 non-null   int64  \n",
      " 1   baths           2016 non-null   float64\n",
      " 2   size            2016 non-null   float64\n",
      " 3   size_units      2016 non-null   object \n",
      " 4   lot_size        1669 non-null   float64\n",
      " 5   lot_size_units  1669 non-null   object \n",
      " 6   zip_code        2016 non-null   int64  \n",
      " 7   price           2016 non-null   float64\n",
      "dtypes: float64(4), int64(2), object(2)\n",
      "memory usage: 126.1+ KB\n"
     ]
    }
   ],
   "source": [
    "dt.info()"
   ]
  },
  {
   "cell_type": "code",
   "execution_count": 4,
   "id": "194e8be9-39e5-443d-a026-047b79bbebee",
   "metadata": {},
   "outputs": [
    {
     "data": {
      "text/plain": [
       "beds                0\n",
       "baths               0\n",
       "size                0\n",
       "size_units          0\n",
       "lot_size          347\n",
       "lot_size_units    347\n",
       "zip_code            0\n",
       "price               0\n",
       "dtype: int64"
      ]
     },
     "execution_count": 4,
     "metadata": {},
     "output_type": "execute_result"
    }
   ],
   "source": [
    "dt.isnull().sum()"
   ]
  },
  {
   "cell_type": "code",
   "execution_count": 5,
   "id": "9a3f2ce3-8277-483b-8c2a-7aa8120c23df",
   "metadata": {},
   "outputs": [
    {
     "name": "stdout",
     "output_type": "stream",
     "text": [
      "0\n"
     ]
    }
   ],
   "source": [
    "# checking if null values in both columns have same indices\n",
    "print((dt.iloc[:,4].isnull() != dt.iloc[:,5].isnull()).sum())"
   ]
  },
  {
   "cell_type": "code",
   "execution_count": 6,
   "id": "45bb4c5b-b71b-4595-8b49-4b463850b93b",
   "metadata": {},
   "outputs": [
    {
     "data": {
      "text/plain": [
       "17.21230158730159"
      ]
     },
     "execution_count": 6,
     "metadata": {},
     "output_type": "execute_result"
    }
   ],
   "source": [
    "# check the percentage of null values\n",
    "(dt['lot_size'].isnull().sum()/len(dt['beds']))*100"
   ]
  },
  {
   "cell_type": "code",
   "execution_count": 7,
   "id": "e8462181-eb23-4150-8175-962818ff9d41",
   "metadata": {},
   "outputs": [
    {
     "data": {
      "text/plain": [
       "347"
      ]
     },
     "execution_count": 7,
     "metadata": {},
     "output_type": "execute_result"
    }
   ],
   "source": [
    "dt['lot_size'].isnull().sum()"
   ]
  },
  {
   "cell_type": "code",
   "execution_count": 8,
   "id": "79c77c9b-6206-48c5-9aa0-527b7b6f7dd4",
   "metadata": {},
   "outputs": [],
   "source": [
    "dt['price_per_sqft'] = (dt['price'] * 100000)/dt['size']"
   ]
  },
  {
   "cell_type": "code",
   "execution_count": 9,
   "id": "dd6cce61-1abd-4f9e-9a26-b94599b9a5e7",
   "metadata": {},
   "outputs": [
    {
     "data": {
      "text/html": [
       "<div>\n",
       "<style scoped>\n",
       "    .dataframe tbody tr th:only-of-type {\n",
       "        vertical-align: middle;\n",
       "    }\n",
       "\n",
       "    .dataframe tbody tr th {\n",
       "        vertical-align: top;\n",
       "    }\n",
       "\n",
       "    .dataframe thead th {\n",
       "        text-align: right;\n",
       "    }\n",
       "</style>\n",
       "<table border=\"1\" class=\"dataframe\">\n",
       "  <thead>\n",
       "    <tr style=\"text-align: right;\">\n",
       "      <th></th>\n",
       "      <th>beds</th>\n",
       "      <th>baths</th>\n",
       "      <th>size</th>\n",
       "      <th>lot_size</th>\n",
       "      <th>zip_code</th>\n",
       "      <th>price</th>\n",
       "      <th>price_per_sqft</th>\n",
       "    </tr>\n",
       "  </thead>\n",
       "  <tbody>\n",
       "    <tr>\n",
       "      <th>count</th>\n",
       "      <td>2016.000000</td>\n",
       "      <td>2016.000000</td>\n",
       "      <td>2016.000000</td>\n",
       "      <td>1669.000000</td>\n",
       "      <td>2016.000000</td>\n",
       "      <td>2.016000e+03</td>\n",
       "      <td>2.016000e+03</td>\n",
       "    </tr>\n",
       "    <tr>\n",
       "      <th>mean</th>\n",
       "      <td>2.857639</td>\n",
       "      <td>2.159970</td>\n",
       "      <td>1735.740575</td>\n",
       "      <td>3871.059694</td>\n",
       "      <td>98123.638889</td>\n",
       "      <td>9.636252e+05</td>\n",
       "      <td>5.915851e+07</td>\n",
       "    </tr>\n",
       "    <tr>\n",
       "      <th>std</th>\n",
       "      <td>1.255092</td>\n",
       "      <td>1.002023</td>\n",
       "      <td>920.132591</td>\n",
       "      <td>2719.402066</td>\n",
       "      <td>22.650819</td>\n",
       "      <td>9.440954e+05</td>\n",
       "      <td>8.327952e+07</td>\n",
       "    </tr>\n",
       "    <tr>\n",
       "      <th>min</th>\n",
       "      <td>1.000000</td>\n",
       "      <td>0.500000</td>\n",
       "      <td>250.000000</td>\n",
       "      <td>0.230000</td>\n",
       "      <td>98101.000000</td>\n",
       "      <td>1.590000e+05</td>\n",
       "      <td>6.796117e+06</td>\n",
       "    </tr>\n",
       "    <tr>\n",
       "      <th>25%</th>\n",
       "      <td>2.000000</td>\n",
       "      <td>1.500000</td>\n",
       "      <td>1068.750000</td>\n",
       "      <td>1252.000000</td>\n",
       "      <td>98108.000000</td>\n",
       "      <td>6.017500e+05</td>\n",
       "      <td>4.452221e+07</td>\n",
       "    </tr>\n",
       "    <tr>\n",
       "      <th>50%</th>\n",
       "      <td>3.000000</td>\n",
       "      <td>2.000000</td>\n",
       "      <td>1560.000000</td>\n",
       "      <td>4000.000000</td>\n",
       "      <td>98117.000000</td>\n",
       "      <td>8.000000e+05</td>\n",
       "      <td>5.529762e+07</td>\n",
       "    </tr>\n",
       "    <tr>\n",
       "      <th>75%</th>\n",
       "      <td>4.000000</td>\n",
       "      <td>2.500000</td>\n",
       "      <td>2222.500000</td>\n",
       "      <td>6000.000000</td>\n",
       "      <td>98126.000000</td>\n",
       "      <td>1.105250e+06</td>\n",
       "      <td>6.595389e+07</td>\n",
       "    </tr>\n",
       "    <tr>\n",
       "      <th>max</th>\n",
       "      <td>15.000000</td>\n",
       "      <td>9.000000</td>\n",
       "      <td>11010.000000</td>\n",
       "      <td>9998.000000</td>\n",
       "      <td>98199.000000</td>\n",
       "      <td>2.500000e+07</td>\n",
       "      <td>3.424658e+09</td>\n",
       "    </tr>\n",
       "  </tbody>\n",
       "</table>\n",
       "</div>"
      ],
      "text/plain": [
       "              beds        baths          size     lot_size      zip_code  \\\n",
       "count  2016.000000  2016.000000   2016.000000  1669.000000   2016.000000   \n",
       "mean      2.857639     2.159970   1735.740575  3871.059694  98123.638889   \n",
       "std       1.255092     1.002023    920.132591  2719.402066     22.650819   \n",
       "min       1.000000     0.500000    250.000000     0.230000  98101.000000   \n",
       "25%       2.000000     1.500000   1068.750000  1252.000000  98108.000000   \n",
       "50%       3.000000     2.000000   1560.000000  4000.000000  98117.000000   \n",
       "75%       4.000000     2.500000   2222.500000  6000.000000  98126.000000   \n",
       "max      15.000000     9.000000  11010.000000  9998.000000  98199.000000   \n",
       "\n",
       "              price  price_per_sqft  \n",
       "count  2.016000e+03    2.016000e+03  \n",
       "mean   9.636252e+05    5.915851e+07  \n",
       "std    9.440954e+05    8.327952e+07  \n",
       "min    1.590000e+05    6.796117e+06  \n",
       "25%    6.017500e+05    4.452221e+07  \n",
       "50%    8.000000e+05    5.529762e+07  \n",
       "75%    1.105250e+06    6.595389e+07  \n",
       "max    2.500000e+07    3.424658e+09  "
      ]
     },
     "execution_count": 9,
     "metadata": {},
     "output_type": "execute_result"
    }
   ],
   "source": [
    "dt.describe()"
   ]
  },
  {
   "cell_type": "code",
   "execution_count": 10,
   "id": "279f24ae-e4f9-4ed0-b95f-c3321f1ec157",
   "metadata": {},
   "outputs": [
    {
     "data": {
      "text/html": [
       "<style type=\"text/css\">\n",
       "#T_52809_row0_col0, #T_52809_row0_col1, #T_52809_row0_col2, #T_52809_row0_col3, #T_52809_row0_col4, #T_52809_row0_col5, #T_52809_row1_col0, #T_52809_row1_col1, #T_52809_row1_col2, #T_52809_row1_col3, #T_52809_row1_col5, #T_52809_row2_col0, #T_52809_row2_col1, #T_52809_row2_col2, #T_52809_row2_col3, #T_52809_row2_col4, #T_52809_row2_col5, #T_52809_row3_col0, #T_52809_row3_col1, #T_52809_row3_col2, #T_52809_row3_col3, #T_52809_row3_col4, #T_52809_row3_col5, #T_52809_row4_col0, #T_52809_row4_col2, #T_52809_row4_col3, #T_52809_row4_col4, #T_52809_row5_col0, #T_52809_row5_col1, #T_52809_row5_col2, #T_52809_row5_col3, #T_52809_row5_col5, #T_52809_row5_col6, #T_52809_row6_col5, #T_52809_row6_col6 {\n",
       "  color: None;\n",
       "}\n",
       "#T_52809_row0_col6, #T_52809_row1_col4, #T_52809_row1_col6, #T_52809_row2_col6, #T_52809_row3_col6, #T_52809_row4_col1, #T_52809_row4_col5, #T_52809_row4_col6, #T_52809_row5_col4, #T_52809_row6_col0, #T_52809_row6_col1, #T_52809_row6_col2, #T_52809_row6_col3, #T_52809_row6_col4 {\n",
       "  color: #FF3344;\n",
       "}\n",
       "</style>\n",
       "<table id=\"T_52809\">\n",
       "  <thead>\n",
       "    <tr>\n",
       "      <th class=\"blank level0\" >&nbsp;</th>\n",
       "      <th id=\"T_52809_level0_col0\" class=\"col_heading level0 col0\" >beds</th>\n",
       "      <th id=\"T_52809_level0_col1\" class=\"col_heading level0 col1\" >baths</th>\n",
       "      <th id=\"T_52809_level0_col2\" class=\"col_heading level0 col2\" >size</th>\n",
       "      <th id=\"T_52809_level0_col3\" class=\"col_heading level0 col3\" >lot_size</th>\n",
       "      <th id=\"T_52809_level0_col4\" class=\"col_heading level0 col4\" >zip_code</th>\n",
       "      <th id=\"T_52809_level0_col5\" class=\"col_heading level0 col5\" >price</th>\n",
       "      <th id=\"T_52809_level0_col6\" class=\"col_heading level0 col6\" >price_per_sqft</th>\n",
       "    </tr>\n",
       "  </thead>\n",
       "  <tbody>\n",
       "    <tr>\n",
       "      <th id=\"T_52809_level0_row0\" class=\"row_heading level0 row0\" >beds</th>\n",
       "      <td id=\"T_52809_row0_col0\" class=\"data row0 col0\" >1.00</td>\n",
       "      <td id=\"T_52809_row0_col1\" class=\"data row0 col1\" >0.65</td>\n",
       "      <td id=\"T_52809_row0_col2\" class=\"data row0 col2\" >0.77</td>\n",
       "      <td id=\"T_52809_row0_col3\" class=\"data row0 col3\" >0.29</td>\n",
       "      <td id=\"T_52809_row0_col4\" class=\"data row0 col4\" >0.08</td>\n",
       "      <td id=\"T_52809_row0_col5\" class=\"data row0 col5\" >0.29</td>\n",
       "      <td id=\"T_52809_row0_col6\" class=\"data row0 col6\" >-0.09</td>\n",
       "    </tr>\n",
       "    <tr>\n",
       "      <th id=\"T_52809_level0_row1\" class=\"row_heading level0 row1\" >baths</th>\n",
       "      <td id=\"T_52809_row1_col0\" class=\"data row1 col0\" >0.65</td>\n",
       "      <td id=\"T_52809_row1_col1\" class=\"data row1 col1\" >1.00</td>\n",
       "      <td id=\"T_52809_row1_col2\" class=\"data row1 col2\" >0.67</td>\n",
       "      <td id=\"T_52809_row1_col3\" class=\"data row1 col3\" >0.02</td>\n",
       "      <td id=\"T_52809_row1_col4\" class=\"data row1 col4\" >-0.00</td>\n",
       "      <td id=\"T_52809_row1_col5\" class=\"data row1 col5\" >0.32</td>\n",
       "      <td id=\"T_52809_row1_col6\" class=\"data row1 col6\" >-0.06</td>\n",
       "    </tr>\n",
       "    <tr>\n",
       "      <th id=\"T_52809_level0_row2\" class=\"row_heading level0 row2\" >size</th>\n",
       "      <td id=\"T_52809_row2_col0\" class=\"data row2 col0\" >0.77</td>\n",
       "      <td id=\"T_52809_row2_col1\" class=\"data row2 col1\" >0.67</td>\n",
       "      <td id=\"T_52809_row2_col2\" class=\"data row2 col2\" >1.00</td>\n",
       "      <td id=\"T_52809_row2_col3\" class=\"data row2 col3\" >0.27</td>\n",
       "      <td id=\"T_52809_row2_col4\" class=\"data row2 col4\" >0.07</td>\n",
       "      <td id=\"T_52809_row2_col5\" class=\"data row2 col5\" >0.44</td>\n",
       "      <td id=\"T_52809_row2_col6\" class=\"data row2 col6\" >-0.08</td>\n",
       "    </tr>\n",
       "    <tr>\n",
       "      <th id=\"T_52809_level0_row3\" class=\"row_heading level0 row3\" >lot_size</th>\n",
       "      <td id=\"T_52809_row3_col0\" class=\"data row3 col0\" >0.29</td>\n",
       "      <td id=\"T_52809_row3_col1\" class=\"data row3 col1\" >0.02</td>\n",
       "      <td id=\"T_52809_row3_col2\" class=\"data row3 col2\" >0.27</td>\n",
       "      <td id=\"T_52809_row3_col3\" class=\"data row3 col3\" >1.00</td>\n",
       "      <td id=\"T_52809_row3_col4\" class=\"data row3 col4\" >0.16</td>\n",
       "      <td id=\"T_52809_row3_col5\" class=\"data row3 col5\" >0.09</td>\n",
       "      <td id=\"T_52809_row3_col6\" class=\"data row3 col6\" >-0.02</td>\n",
       "    </tr>\n",
       "    <tr>\n",
       "      <th id=\"T_52809_level0_row4\" class=\"row_heading level0 row4\" >zip_code</th>\n",
       "      <td id=\"T_52809_row4_col0\" class=\"data row4 col0\" >0.08</td>\n",
       "      <td id=\"T_52809_row4_col1\" class=\"data row4 col1\" >-0.00</td>\n",
       "      <td id=\"T_52809_row4_col2\" class=\"data row4 col2\" >0.07</td>\n",
       "      <td id=\"T_52809_row4_col3\" class=\"data row4 col3\" >0.16</td>\n",
       "      <td id=\"T_52809_row4_col4\" class=\"data row4 col4\" >1.00</td>\n",
       "      <td id=\"T_52809_row4_col5\" class=\"data row4 col5\" >-0.05</td>\n",
       "      <td id=\"T_52809_row4_col6\" class=\"data row4 col6\" >-0.05</td>\n",
       "    </tr>\n",
       "    <tr>\n",
       "      <th id=\"T_52809_level0_row5\" class=\"row_heading level0 row5\" >price</th>\n",
       "      <td id=\"T_52809_row5_col0\" class=\"data row5 col0\" >0.29</td>\n",
       "      <td id=\"T_52809_row5_col1\" class=\"data row5 col1\" >0.32</td>\n",
       "      <td id=\"T_52809_row5_col2\" class=\"data row5 col2\" >0.44</td>\n",
       "      <td id=\"T_52809_row5_col3\" class=\"data row5 col3\" >0.09</td>\n",
       "      <td id=\"T_52809_row5_col4\" class=\"data row5 col4\" >-0.05</td>\n",
       "      <td id=\"T_52809_row5_col5\" class=\"data row5 col5\" >1.00</td>\n",
       "      <td id=\"T_52809_row5_col6\" class=\"data row5 col6\" >0.76</td>\n",
       "    </tr>\n",
       "    <tr>\n",
       "      <th id=\"T_52809_level0_row6\" class=\"row_heading level0 row6\" >price_per_sqft</th>\n",
       "      <td id=\"T_52809_row6_col0\" class=\"data row6 col0\" >-0.09</td>\n",
       "      <td id=\"T_52809_row6_col1\" class=\"data row6 col1\" >-0.06</td>\n",
       "      <td id=\"T_52809_row6_col2\" class=\"data row6 col2\" >-0.08</td>\n",
       "      <td id=\"T_52809_row6_col3\" class=\"data row6 col3\" >-0.02</td>\n",
       "      <td id=\"T_52809_row6_col4\" class=\"data row6 col4\" >-0.05</td>\n",
       "      <td id=\"T_52809_row6_col5\" class=\"data row6 col5\" >0.76</td>\n",
       "      <td id=\"T_52809_row6_col6\" class=\"data row6 col6\" >1.00</td>\n",
       "    </tr>\n",
       "  </tbody>\n",
       "</table>\n"
      ],
      "text/plain": [
       "<pandas.io.formats.style.Styler at 0x1a8fff04a10>"
      ]
     },
     "execution_count": 10,
     "metadata": {},
     "output_type": "execute_result"
    }
   ],
   "source": [
    "klib.corr_mat(dt)"
   ]
  },
  {
   "cell_type": "code",
   "execution_count": 11,
   "id": "d86cc5fa-9399-4e20-b831-9bd34f2eaef7",
   "metadata": {},
   "outputs": [
    {
     "data": {
      "text/plain": [
       "beds          0\n",
       "baths         0\n",
       "size          0\n",
       "size_units    0\n",
       "zip_code      0\n",
       "price         0\n",
       "dtype: int64"
      ]
     },
     "execution_count": 11,
     "metadata": {},
     "output_type": "execute_result"
    }
   ],
   "source": [
    "dt.drop(columns= ['lot_size','lot_size_units','price_per_sqft'],inplace= True)\n",
    "dt.isnull().sum()"
   ]
  },
  {
   "cell_type": "code",
   "execution_count": 12,
   "id": "86fc225b-e2d2-40c9-ad0a-b9a3b50c76d6",
   "metadata": {},
   "outputs": [
    {
     "data": {
      "text/plain": [
       "Index(['beds', 'baths', 'size', 'zip_code', 'price'], dtype='object')"
      ]
     },
     "execution_count": 12,
     "metadata": {},
     "output_type": "execute_result"
    }
   ],
   "source": [
    "dt.drop(['size_units'],axis=1,inplace=True)\n",
    "dt.columns"
   ]
  },
  {
   "cell_type": "markdown",
   "id": "696d1599-ea3a-4ef3-99ff-94a5090d693e",
   "metadata": {},
   "source": [
    "**FEATURE ENGINEERING**"
   ]
  },
  {
   "cell_type": "code",
   "execution_count": 13,
   "id": "72763480-7c71-433b-8529-6c5c04510889",
   "metadata": {},
   "outputs": [],
   "source": [
    "x = dt.drop(columns=['price'])\n",
    "y = dt['price']"
   ]
  },
  {
   "cell_type": "code",
   "execution_count": 14,
   "id": "21f305eb-f30b-4179-a78d-b1e1729266a5",
   "metadata": {},
   "outputs": [
    {
     "data": {
      "text/html": [
       "<div>\n",
       "<style scoped>\n",
       "    .dataframe tbody tr th:only-of-type {\n",
       "        vertical-align: middle;\n",
       "    }\n",
       "\n",
       "    .dataframe tbody tr th {\n",
       "        vertical-align: top;\n",
       "    }\n",
       "\n",
       "    .dataframe thead th {\n",
       "        text-align: right;\n",
       "    }\n",
       "</style>\n",
       "<table border=\"1\" class=\"dataframe\">\n",
       "  <thead>\n",
       "    <tr style=\"text-align: right;\">\n",
       "      <th></th>\n",
       "      <th>beds</th>\n",
       "      <th>baths</th>\n",
       "      <th>size</th>\n",
       "      <th>zip_code</th>\n",
       "    </tr>\n",
       "  </thead>\n",
       "  <tbody>\n",
       "    <tr>\n",
       "      <th>0</th>\n",
       "      <td>3</td>\n",
       "      <td>2.5</td>\n",
       "      <td>2590.0</td>\n",
       "      <td>98144</td>\n",
       "    </tr>\n",
       "    <tr>\n",
       "      <th>1</th>\n",
       "      <td>4</td>\n",
       "      <td>2.0</td>\n",
       "      <td>2240.0</td>\n",
       "      <td>98106</td>\n",
       "    </tr>\n",
       "    <tr>\n",
       "      <th>2</th>\n",
       "      <td>4</td>\n",
       "      <td>3.0</td>\n",
       "      <td>2040.0</td>\n",
       "      <td>98107</td>\n",
       "    </tr>\n",
       "    <tr>\n",
       "      <th>3</th>\n",
       "      <td>4</td>\n",
       "      <td>3.0</td>\n",
       "      <td>3800.0</td>\n",
       "      <td>98199</td>\n",
       "    </tr>\n",
       "    <tr>\n",
       "      <th>4</th>\n",
       "      <td>2</td>\n",
       "      <td>2.0</td>\n",
       "      <td>1042.0</td>\n",
       "      <td>98102</td>\n",
       "    </tr>\n",
       "  </tbody>\n",
       "</table>\n",
       "</div>"
      ],
      "text/plain": [
       "   beds  baths    size  zip_code\n",
       "0     3    2.5  2590.0     98144\n",
       "1     4    2.0  2240.0     98106\n",
       "2     4    3.0  2040.0     98107\n",
       "3     4    3.0  3800.0     98199\n",
       "4     2    2.0  1042.0     98102"
      ]
     },
     "execution_count": 14,
     "metadata": {},
     "output_type": "execute_result"
    }
   ],
   "source": [
    "x.head()"
   ]
  },
  {
   "cell_type": "markdown",
   "id": "1e7b5062-1c83-4b37-a30a-94e160b5a3fc",
   "metadata": {},
   "source": [
    "**FEATURE IMPORTANCE**"
   ]
  },
  {
   "cell_type": "code",
   "execution_count": 15,
   "id": "2daad295-29d6-4036-8ccc-d7d0b681f01b",
   "metadata": {},
   "outputs": [],
   "source": [
    "fs = ExtraTreesClassifier()"
   ]
  },
  {
   "cell_type": "code",
   "execution_count": 16,
   "id": "3414c233-b2bf-42ae-b688-eda7c8df993c",
   "metadata": {},
   "outputs": [
    {
     "data": {
      "text/html": [
       "<style>#sk-container-id-1 {color: black;}#sk-container-id-1 pre{padding: 0;}#sk-container-id-1 div.sk-toggleable {background-color: white;}#sk-container-id-1 label.sk-toggleable__label {cursor: pointer;display: block;width: 100%;margin-bottom: 0;padding: 0.3em;box-sizing: border-box;text-align: center;}#sk-container-id-1 label.sk-toggleable__label-arrow:before {content: \"▸\";float: left;margin-right: 0.25em;color: #696969;}#sk-container-id-1 label.sk-toggleable__label-arrow:hover:before {color: black;}#sk-container-id-1 div.sk-estimator:hover label.sk-toggleable__label-arrow:before {color: black;}#sk-container-id-1 div.sk-toggleable__content {max-height: 0;max-width: 0;overflow: hidden;text-align: left;background-color: #f0f8ff;}#sk-container-id-1 div.sk-toggleable__content pre {margin: 0.2em;color: black;border-radius: 0.25em;background-color: #f0f8ff;}#sk-container-id-1 input.sk-toggleable__control:checked~div.sk-toggleable__content {max-height: 200px;max-width: 100%;overflow: auto;}#sk-container-id-1 input.sk-toggleable__control:checked~label.sk-toggleable__label-arrow:before {content: \"▾\";}#sk-container-id-1 div.sk-estimator input.sk-toggleable__control:checked~label.sk-toggleable__label {background-color: #d4ebff;}#sk-container-id-1 div.sk-label input.sk-toggleable__control:checked~label.sk-toggleable__label {background-color: #d4ebff;}#sk-container-id-1 input.sk-hidden--visually {border: 0;clip: rect(1px 1px 1px 1px);clip: rect(1px, 1px, 1px, 1px);height: 1px;margin: -1px;overflow: hidden;padding: 0;position: absolute;width: 1px;}#sk-container-id-1 div.sk-estimator {font-family: monospace;background-color: #f0f8ff;border: 1px dotted black;border-radius: 0.25em;box-sizing: border-box;margin-bottom: 0.5em;}#sk-container-id-1 div.sk-estimator:hover {background-color: #d4ebff;}#sk-container-id-1 div.sk-parallel-item::after {content: \"\";width: 100%;border-bottom: 1px solid gray;flex-grow: 1;}#sk-container-id-1 div.sk-label:hover label.sk-toggleable__label {background-color: #d4ebff;}#sk-container-id-1 div.sk-serial::before {content: \"\";position: absolute;border-left: 1px solid gray;box-sizing: border-box;top: 0;bottom: 0;left: 50%;z-index: 0;}#sk-container-id-1 div.sk-serial {display: flex;flex-direction: column;align-items: center;background-color: white;padding-right: 0.2em;padding-left: 0.2em;position: relative;}#sk-container-id-1 div.sk-item {position: relative;z-index: 1;}#sk-container-id-1 div.sk-parallel {display: flex;align-items: stretch;justify-content: center;background-color: white;position: relative;}#sk-container-id-1 div.sk-item::before, #sk-container-id-1 div.sk-parallel-item::before {content: \"\";position: absolute;border-left: 1px solid gray;box-sizing: border-box;top: 0;bottom: 0;left: 50%;z-index: -1;}#sk-container-id-1 div.sk-parallel-item {display: flex;flex-direction: column;z-index: 1;position: relative;background-color: white;}#sk-container-id-1 div.sk-parallel-item:first-child::after {align-self: flex-end;width: 50%;}#sk-container-id-1 div.sk-parallel-item:last-child::after {align-self: flex-start;width: 50%;}#sk-container-id-1 div.sk-parallel-item:only-child::after {width: 0;}#sk-container-id-1 div.sk-dashed-wrapped {border: 1px dashed gray;margin: 0 0.4em 0.5em 0.4em;box-sizing: border-box;padding-bottom: 0.4em;background-color: white;}#sk-container-id-1 div.sk-label label {font-family: monospace;font-weight: bold;display: inline-block;line-height: 1.2em;}#sk-container-id-1 div.sk-label-container {text-align: center;}#sk-container-id-1 div.sk-container {/* jupyter's `normalize.less` sets `[hidden] { display: none; }` but bootstrap.min.css set `[hidden] { display: none !important; }` so we also need the `!important` here to be able to override the default hidden behavior on the sphinx rendered scikit-learn.org. See: https://github.com/scikit-learn/scikit-learn/issues/21755 */display: inline-block !important;position: relative;}#sk-container-id-1 div.sk-text-repr-fallback {display: none;}</style><div id=\"sk-container-id-1\" class=\"sk-top-container\"><div class=\"sk-text-repr-fallback\"><pre>ExtraTreesClassifier()</pre><b>In a Jupyter environment, please rerun this cell to show the HTML representation or trust the notebook. <br />On GitHub, the HTML representation is unable to render, please try loading this page with nbviewer.org.</b></div><div class=\"sk-container\" hidden><div class=\"sk-item\"><div class=\"sk-estimator sk-toggleable\"><input class=\"sk-toggleable__control sk-hidden--visually\" id=\"sk-estimator-id-1\" type=\"checkbox\" checked><label for=\"sk-estimator-id-1\" class=\"sk-toggleable__label sk-toggleable__label-arrow\">ExtraTreesClassifier</label><div class=\"sk-toggleable__content\"><pre>ExtraTreesClassifier()</pre></div></div></div></div></div>"
      ],
      "text/plain": [
       "ExtraTreesClassifier()"
      ]
     },
     "execution_count": 16,
     "metadata": {},
     "output_type": "execute_result"
    }
   ],
   "source": [
    "fs.fit(x,y)"
   ]
  },
  {
   "cell_type": "code",
   "execution_count": 17,
   "id": "e9518634-2481-416f-a7d5-0e9ccaeb4d9f",
   "metadata": {},
   "outputs": [
    {
     "data": {
      "text/plain": [
       "<Axes: >"
      ]
     },
     "execution_count": 17,
     "metadata": {},
     "output_type": "execute_result"
    },
    {
     "data": {
      "image/png": "[encoded data removed]",
      "text/plain": [
       "<Figure size 640x480 with 1 Axes>"
      ]
     },
     "metadata": {},
     "output_type": "display_data"
    }
   ],
   "source": [
    "fi = pd.Series(fs.feature_importances_,index=x.columns)\n",
    "fi.nlargest(10).plot(kind='barh')"
   ]
  },
  {
   "cell_type": "code",
   "execution_count": 18,
   "id": "0b0db158-6ce0-405c-9c49-87d2e803cbd8",
   "metadata": {},
   "outputs": [
    {
     "data": {
      "text/plain": [
       "array([[ 0.11345495,  0.33942758,  0.9286394 ,  0.89913582],\n",
       "       [ 0.91040676, -0.15968693,  0.54816506, -0.77892394],\n",
       "       [ 0.91040676,  0.83854209,  0.33075115, -0.73476447],\n",
       "       ...,\n",
       "       [ 0.91040676, -0.15968693,  0.4394581 ,  3.32790652],\n",
       "       [-0.68349687, -0.15968693, -1.02265042, -0.91140234],\n",
       "       [ 0.11345495, -0.15968693, -0.0279818 ,  0.41338168]])"
      ]
     },
     "execution_count": 18,
     "metadata": {},
     "output_type": "execute_result"
    }
   ],
   "source": [
    "# Since the values are large in 'size', it is affecting the feature importance, so lets scale \n",
    "\n",
    "sc = StandardScaler()\n",
    "x = sc.fit_transform(x)\n",
    "x"
   ]
  },
  {
   "cell_type": "markdown",
   "id": "c09daa38-42fe-44a8-a6f7-9fe9ce368057",
   "metadata": {},
   "source": [
    "**TESTING DATASET**"
   ]
  },
  {
   "cell_type": "code",
   "execution_count": 19,
   "id": "e0439781-78f4-45dc-b0c3-fad892f7167e",
   "metadata": {},
   "outputs": [
    {
     "name": "stdout",
     "output_type": "stream",
     "text": [
      "<class 'pandas.core.frame.DataFrame'>\n",
      "RangeIndex: 505 entries, 0 to 504\n",
      "Data columns (total 8 columns):\n",
      " #   Column          Non-Null Count  Dtype  \n",
      "---  ------          --------------  -----  \n",
      " 0   beds            505 non-null    int64  \n",
      " 1   baths           505 non-null    float64\n",
      " 2   size            505 non-null    float64\n",
      " 3   size_units      505 non-null    object \n",
      " 4   lot_size        428 non-null    float64\n",
      " 5   lot_size_units  428 non-null    object \n",
      " 6   zip_code        505 non-null    int64  \n",
      " 7   price           505 non-null    float64\n",
      "dtypes: float64(4), int64(2), object(2)\n",
      "memory usage: 31.7+ KB\n"
     ]
    }
   ],
   "source": [
    "test = pd.read_csv('test.csv')\n",
    "test.info()"
   ]
  },
  {
   "cell_type": "code",
   "execution_count": 20,
   "id": "9ab5ab58-a4cf-40ea-b44b-3e374e5f21b9",
   "metadata": {},
   "outputs": [
    {
     "data": {
      "text/plain": [
       "Index(['beds', 'baths', 'size', 'zip_code', 'price'], dtype='object')"
      ]
     },
     "execution_count": 20,
     "metadata": {},
     "output_type": "execute_result"
    }
   ],
   "source": [
    "test.drop(columns=['lot_size','lot_size_units','size_units'],inplace=True)\n",
    "test.columns"
   ]
  },
  {
   "cell_type": "code",
   "execution_count": 21,
   "id": "2eface96-9633-4b39-8651-15ab54d1d71e",
   "metadata": {},
   "outputs": [],
   "source": [
    "x_test = test.drop(columns=['price'])\n",
    "y_test = test['price']"
   ]
  },
  {
   "cell_type": "code",
   "execution_count": 22,
   "id": "773e403e-fee6-4d85-acd7-75ee1bcb9136",
   "metadata": {},
   "outputs": [
    {
     "data": {
      "text/html": [
       "<div>\n",
       "<style scoped>\n",
       "    .dataframe tbody tr th:only-of-type {\n",
       "        vertical-align: middle;\n",
       "    }\n",
       "\n",
       "    .dataframe tbody tr th {\n",
       "        vertical-align: top;\n",
       "    }\n",
       "\n",
       "    .dataframe thead th {\n",
       "        text-align: right;\n",
       "    }\n",
       "</style>\n",
       "<table border=\"1\" class=\"dataframe\">\n",
       "  <thead>\n",
       "    <tr style=\"text-align: right;\">\n",
       "      <th></th>\n",
       "      <th>beds</th>\n",
       "      <th>baths</th>\n",
       "      <th>size</th>\n",
       "      <th>zip_code</th>\n",
       "    </tr>\n",
       "  </thead>\n",
       "  <tbody>\n",
       "    <tr>\n",
       "      <th>0</th>\n",
       "      <td>3</td>\n",
       "      <td>3.0</td>\n",
       "      <td>2850.0</td>\n",
       "      <td>98119</td>\n",
       "    </tr>\n",
       "    <tr>\n",
       "      <th>1</th>\n",
       "      <td>4</td>\n",
       "      <td>5.0</td>\n",
       "      <td>3040.0</td>\n",
       "      <td>98106</td>\n",
       "    </tr>\n",
       "    <tr>\n",
       "      <th>2</th>\n",
       "      <td>3</td>\n",
       "      <td>1.0</td>\n",
       "      <td>1290.0</td>\n",
       "      <td>98125</td>\n",
       "    </tr>\n",
       "    <tr>\n",
       "      <th>3</th>\n",
       "      <td>3</td>\n",
       "      <td>2.0</td>\n",
       "      <td>2360.0</td>\n",
       "      <td>98188</td>\n",
       "    </tr>\n",
       "    <tr>\n",
       "      <th>4</th>\n",
       "      <td>3</td>\n",
       "      <td>3.5</td>\n",
       "      <td>1942.0</td>\n",
       "      <td>98107</td>\n",
       "    </tr>\n",
       "  </tbody>\n",
       "</table>\n",
       "</div>"
      ],
      "text/plain": [
       "   beds  baths    size  zip_code\n",
       "0     3    3.0  2850.0     98119\n",
       "1     4    5.0  3040.0     98106\n",
       "2     3    1.0  1290.0     98125\n",
       "3     3    2.0  2360.0     98188\n",
       "4     3    3.5  1942.0     98107"
      ]
     },
     "execution_count": 22,
     "metadata": {},
     "output_type": "execute_result"
    }
   ],
   "source": [
    "x_test.head()"
   ]
  },
  {
   "cell_type": "code",
   "execution_count": 23,
   "id": "5ed28925-45dd-48ec-bf13-9fb01e9d48cd",
   "metadata": {},
   "outputs": [
    {
     "data": {
      "text/plain": [
       "array([[ 0.03752404,  0.77064181,  1.08301944, -0.25618635],\n",
       "       [ 0.86142136,  2.74614493,  1.28917319, -0.77931649],\n",
       "       [ 0.03752404, -1.20486131, -0.60961136, -0.01474167],\n",
       "       ...,\n",
       "       [ 0.03752404,  0.27676603,  1.19152141, -0.29642713],\n",
       "       [ 1.68531869,  2.74614493,  1.2566226 , -0.41714947],\n",
       "       [ 0.03752404, -0.21710975, -0.59767614, -0.90003883]])"
      ]
     },
     "execution_count": 23,
     "metadata": {},
     "output_type": "execute_result"
    }
   ],
   "source": [
    "x_test = sc.fit_transform(x_test)\n",
    "x_test"
   ]
  },
  {
   "cell_type": "markdown",
   "id": "1f5f9297-c264-4a5f-ac76-8ab1cc94691c",
   "metadata": {},
   "source": [
    "**LINEAR REGRESSION**"
   ]
  },
  {
   "cell_type": "code",
   "execution_count": 24,
   "id": "d89d153f-e0fb-4bc5-9216-7f2e798b4162",
   "metadata": {},
   "outputs": [
    {
     "data": {
      "text/html": [
       "<style>#sk-container-id-2 {color: black;}#sk-container-id-2 pre{padding: 0;}#sk-container-id-2 div.sk-toggleable {background-color: white;}#sk-container-id-2 label.sk-toggleable__label {cursor: pointer;display: block;width: 100%;margin-bottom: 0;padding: 0.3em;box-sizing: border-box;text-align: center;}#sk-container-id-2 label.sk-toggleable__label-arrow:before {content: \"▸\";float: left;margin-right: 0.25em;color: #696969;}#sk-container-id-2 label.sk-toggleable__label-arrow:hover:before {color: black;}#sk-container-id-2 div.sk-estimator:hover label.sk-toggleable__label-arrow:before {color: black;}#sk-container-id-2 div.sk-toggleable__content {max-height: 0;max-width: 0;overflow: hidden;text-align: left;background-color: #f0f8ff;}#sk-container-id-2 div.sk-toggleable__content pre {margin: 0.2em;color: black;border-radius: 0.25em;background-color: #f0f8ff;}#sk-container-id-2 input.sk-toggleable__control:checked~div.sk-toggleable__content {max-height: 200px;max-width: 100%;overflow: auto;}#sk-container-id-2 input.sk-toggleable__control:checked~label.sk-toggleable__label-arrow:before {content: \"▾\";}#sk-container-id-2 div.sk-estimator input.sk-toggleable__control:checked~label.sk-toggleable__label {background-color: #d4ebff;}#sk-container-id-2 div.sk-label input.sk-toggleable__control:checked~label.sk-toggleable__label {background-color: #d4ebff;}#sk-container-id-2 input.sk-hidden--visually {border: 0;clip: rect(1px 1px 1px 1px);clip: rect(1px, 1px, 1px, 1px);height: 1px;margin: -1px;overflow: hidden;padding: 0;position: absolute;width: 1px;}#sk-container-id-2 div.sk-estimator {font-family: monospace;background-color: #f0f8ff;border: 1px dotted black;border-radius: 0.25em;box-sizing: border-box;margin-bottom: 0.5em;}#sk-container-id-2 div.sk-estimator:hover {background-color: #d4ebff;}#sk-container-id-2 div.sk-parallel-item::after {content: \"\";width: 100%;border-bottom: 1px solid gray;flex-grow: 1;}#sk-container-id-2 div.sk-label:hover label.sk-toggleable__label {background-color: #d4ebff;}#sk-container-id-2 div.sk-serial::before {content: \"\";position: absolute;border-left: 1px solid gray;box-sizing: border-box;top: 0;bottom: 0;left: 50%;z-index: 0;}#sk-container-id-2 div.sk-serial {display: flex;flex-direction: column;align-items: center;background-color: white;padding-right: 0.2em;padding-left: 0.2em;position: relative;}#sk-container-id-2 div.sk-item {position: relative;z-index: 1;}#sk-container-id-2 div.sk-parallel {display: flex;align-items: stretch;justify-content: center;background-color: white;position: relative;}#sk-container-id-2 div.sk-item::before, #sk-container-id-2 div.sk-parallel-item::before {content: \"\";position: absolute;border-left: 1px solid gray;box-sizing: border-box;top: 0;bottom: 0;left: 50%;z-index: -1;}#sk-container-id-2 div.sk-parallel-item {display: flex;flex-direction: column;z-index: 1;position: relative;background-color: white;}#sk-container-id-2 div.sk-parallel-item:first-child::after {align-self: flex-end;width: 50%;}#sk-container-id-2 div.sk-parallel-item:last-child::after {align-self: flex-start;width: 50%;}#sk-container-id-2 div.sk-parallel-item:only-child::after {width: 0;}#sk-container-id-2 div.sk-dashed-wrapped {border: 1px dashed gray;margin: 0 0.4em 0.5em 0.4em;box-sizing: border-box;padding-bottom: 0.4em;background-color: white;}#sk-container-id-2 div.sk-label label {font-family: monospace;font-weight: bold;display: inline-block;line-height: 1.2em;}#sk-container-id-2 div.sk-label-container {text-align: center;}#sk-container-id-2 div.sk-container {/* jupyter's `normalize.less` sets `[hidden] { display: none; }` but bootstrap.min.css set `[hidden] { display: none !important; }` so we also need the `!important` here to be able to override the default hidden behavior on the sphinx rendered scikit-learn.org. See: https://github.com/scikit-learn/scikit-learn/issues/21755 */display: inline-block !important;position: relative;}#sk-container-id-2 div.sk-text-repr-fallback {display: none;}</style><div id=\"sk-container-id-2\" class=\"sk-top-container\"><div class=\"sk-text-repr-fallback\"><pre>LinearRegression()</pre><b>In a Jupyter environment, please rerun this cell to show the HTML representation or trust the notebook. <br />On GitHub, the HTML representation is unable to render, please try loading this page with nbviewer.org.</b></div><div class=\"sk-container\" hidden><div class=\"sk-item\"><div class=\"sk-estimator sk-toggleable\"><input class=\"sk-toggleable__control sk-hidden--visually\" id=\"sk-estimator-id-2\" type=\"checkbox\" checked><label for=\"sk-estimator-id-2\" class=\"sk-toggleable__label sk-toggleable__label-arrow\">LinearRegression</label><div class=\"sk-toggleable__content\"><pre>LinearRegression()</pre></div></div></div></div></div>"
      ],
      "text/plain": [
       "LinearRegression()"
      ]
     },
     "execution_count": 24,
     "metadata": {},
     "output_type": "execute_result"
    }
   ],
   "source": [
    "lr = LinearRegression()\n",
    "\n",
    "lr.fit(x,y)"
   ]
  },
  {
   "cell_type": "code",
   "execution_count": 25,
   "id": "177115b3-77e9-4ff1-a9f4-cd7cceceffa3",
   "metadata": {},
   "outputs": [
    {
     "data": {
      "text/plain": [
       "array([1549013.19148275, 1698290.52888548,  589312.71351254,\n",
       "       1040366.13307076, 1135081.40474145,  595998.96354889,\n",
       "        581555.89795939, 1640889.76027327,  894380.1061179 ,\n",
       "        490669.26048434,  936790.51740579,  656637.32588131,\n",
       "       1256865.18791265,  824684.58899292,  488577.39191166,\n",
       "       1295657.83082727, 1205693.34266964,  825493.63946839,\n",
       "        925124.15060665, 1261538.66437977,  633835.41662614,\n",
       "       1283531.92435891,  970324.16746621,  500254.20373046,\n",
       "        639257.75387353,  761281.28640872,  696856.95337336,\n",
       "        726351.31302567,  920737.97643011,  460989.14586272,\n",
       "        585535.41011607,  483143.73141457, 1751473.35714824,\n",
       "        404013.67456592, 1096489.88533911, 1020724.26691427,\n",
       "        471287.59844228, 1153787.76926603, 1159626.95119253,\n",
       "       1478785.23239361, 1618543.20655502,  738750.73677324,\n",
       "       1785901.56265825, 1112026.19962624, 1869881.58307181,\n",
       "       1687312.12527784, 1102598.56815696,  967187.24283724,\n",
       "       1254742.41697787,  611668.19430568,  751049.72735287,\n",
       "        437184.20173719,  534095.37490861, 1027629.16666539,\n",
       "        614537.33276168,  495970.24043505, 1269737.02661335,\n",
       "        836215.60905815,  810614.99422798,  889497.31845464,\n",
       "        710740.95844516,  591266.81533137,  979725.34306611,\n",
       "        885324.02632895, 1596090.83960351,  658712.5123921 ,\n",
       "        688484.59730105,  668958.29174817,  423474.43161142,\n",
       "        751802.56783959, 1611224.09422288,  677788.17126121,\n",
       "       1487782.43600628,  764312.86459074,  876892.12027619,\n",
       "        613466.52613757,  848415.25171776,  617619.36092081,\n",
       "        990092.44562944,  946839.65383174, 1326254.97446941,\n",
       "       1179609.02113406,  539831.22920865, 1248903.44206924,\n",
       "        754316.40138827,  862288.60734403, 1519553.27861012,\n",
       "       1117012.31491596,  829355.36518308, 2816736.80939746,\n",
       "       2413050.86759907,  820357.52185566,  614098.68313177,\n",
       "       2160366.11686104,  601715.9440381 ,  828864.07641912,\n",
       "        818256.75770552,  804534.07820642,  883422.16244472,\n",
       "        489150.87715545,  730182.17046767,  450792.9041643 ,\n",
       "        757600.19536644,  733940.80707119, 1021096.45571732,\n",
       "        377040.05930869,  614111.55841568,  603716.44794875,\n",
       "        872358.87232459,  450813.36150675,  257876.57028644,\n",
       "        571983.82999717,  637073.24120934, 1359612.61187062,\n",
       "       1044615.1828002 , 1379294.91568143, 1000780.44287811,\n",
       "       1308254.773143  ,  509207.62969712,  544980.22210528,\n",
       "        893551.94590831,  679081.19845479, 1340246.07985623,\n",
       "       1291753.13751775, 1474641.4976137 , 1780525.90269942,\n",
       "        981499.21400398,  466301.48315255, 1211384.31023062,\n",
       "       1283788.11726949,  813716.60149953,  543104.57557515,\n",
       "       1301079.46018107, 1335693.25538422, 1146780.65863377,\n",
       "       1028306.44891395,  913831.76316007,  652932.20664187,\n",
       "        851755.0589111 ,  546013.28110772,  961788.02146754,\n",
       "        909727.35953345, 1166910.04086566, 1984373.14766115,\n",
       "        447069.8234335 , 1250028.26434114,  793586.78397877,\n",
       "        802285.33055377,  501964.74940732,  987412.83742332,\n",
       "       1355665.55411026,  406106.21694277, 1502300.4201192 ,\n",
       "       1957481.08916902,  547789.37529196,  498688.30156442,\n",
       "       1784572.13285933,  632707.28585996,  593327.57711606,\n",
       "        457124.95838638,  477279.00593815, 1281454.51460176,\n",
       "        659772.66697866,  810572.80011358,  799207.31619049,\n",
       "        640055.71702259,  920474.90676256,  665961.5956347 ,\n",
       "        805160.27076312, 1823477.20340374,  634881.14648661,\n",
       "       1594017.41214481, 1094145.56504701,  501964.74940732,\n",
       "        972337.58075019,  576655.75443008, 1300668.81845476,\n",
       "       1493918.48701298, 1298430.0831249 , 1509697.47921203,\n",
       "        536084.55556957, 1154229.48887491, 1313935.09125845,\n",
       "        877573.17521331, 1778828.056786  ,  606994.48191528,\n",
       "        755613.87766659, 1219651.11802211,  624450.0474501 ,\n",
       "        797505.87051697,  444122.66497768, 1628634.53709536,\n",
       "        714958.46350574,  321518.5054893 ,  389010.60464185,\n",
       "       1135503.36971746,  584112.16413776,  123434.94721073,\n",
       "        527957.10065556,  495852.69250836,  904836.1115816 ,\n",
       "        801478.50591667,  541035.35350187,  911471.0334108 ,\n",
       "        393409.25290285, 1976491.43804605,  821288.77117641,\n",
       "       1275194.91714145,  734762.09052381,  615712.1382244 ,\n",
       "       1481988.58376   , 1149418.95095554, 1080878.85695444,\n",
       "       1027393.16108456,  438771.90885402, 1282605.32595675,\n",
       "        506510.0259102 ,  942924.13814824,  934239.78037605,\n",
       "       1124787.39865463, 1145899.82520071,  406364.63309971,\n",
       "        599468.07461548, 1054952.69392832,  888983.34910187,\n",
       "       1519399.29658067,  596340.921202  , 1150629.74757985,\n",
       "        808751.583267  ,  852049.70474493,  551272.94517407,\n",
       "       1245946.30278804, 1777901.89367271, 1108257.78921522,\n",
       "        971667.84906278, 1029546.12907988,  502134.97055749,\n",
       "       1482500.96958115, 1418422.20679531, 1008503.49310804,\n",
       "       1157180.88680558, 1270753.36946447, 1932224.89634561,\n",
       "       1039040.41555757,  788857.53540379, 1117833.56687117,\n",
       "       1003029.19053076,  884249.65144215,  745908.48944324,\n",
       "        536417.21903777,  521818.8264025 ,  679465.62282701,\n",
       "       1261564.20792969,  731186.55035435,  865751.92430956,\n",
       "       1348416.43677823,  817579.91074584,  868191.78574371,\n",
       "        571092.34452657, 2212845.20959787, 1432003.54103357,\n",
       "        724266.99501413,  664113.0446887 , 1083220.04168072,\n",
       "        123434.94721073,  706815.87597204, 1154644.37007607,\n",
       "        562584.20643148, 1371471.64189345, 1528841.11685277,\n",
       "        692077.49333656,  778509.30665129, 2064797.10993342,\n",
       "       2158067.39626187, 1118342.24299859,  737343.93693354,\n",
       "       1188584.42238796,  876797.25293832,  459754.79041955,\n",
       "        996892.90100878, 2481892.48419097,  477520.10031846,\n",
       "        541550.87488884, 1233668.44335503,  639301.53151954,\n",
       "       1034832.68430449, 1047948.75035931, 1078029.29761086,\n",
       "        973014.63472775,  478856.90515805,  706097.04191584,\n",
       "       1704757.88550774, 1257840.88868359,  766182.98197224,\n",
       "        979278.47166291,  873278.12718349,  762060.34424953,\n",
       "        521201.97236443, 1288717.81814459,  522932.53244258,\n",
       "       1008910.32805636,  627344.29416715,  741453.42676763,\n",
       "       1047264.55985637,  931134.43191336,  497601.69110847,\n",
       "       1613251.96632238, 1387009.97240905,  637996.47577468,\n",
       "        909278.26488389,  817558.81368864,  607693.77094849,\n",
       "        479958.61414427, 1324360.6270569 ,  863565.86220318,\n",
       "        647314.57407269,  881285.17120971, 1078563.21577808,\n",
       "        704874.00972237,  289960.52109119,  685972.31319456,\n",
       "       1523778.12721396,  483576.14400225,  727605.88988801,\n",
       "       1156150.96336897, 1676888.57680247,  706809.23773036,\n",
       "        910948.16848056,  782218.16708187,  953481.4524179 ,\n",
       "       1167773.54993008, 1126352.42259063, 1371237.85696697,\n",
       "        793203.91164076,  839360.08424827, 1302254.93944796,\n",
       "        437722.83900186, 1254707.09962044, 1044166.11964806,\n",
       "        700437.18114284,  876776.79559587,  540406.97178823,\n",
       "       1951183.00728804,  757074.2289598 ,  989003.40490925,\n",
       "        826337.57201241,  728049.62572538,  757420.87421294,\n",
       "       1336128.56502243, 1176583.85292272,  799597.06528548,\n",
       "        530084.28658566,  591106.16356284,  701495.11248304,\n",
       "        593529.57885838, 1007889.2976052 ,  811568.95822697,\n",
       "       1404805.72047579,  892176.68814547,  986404.68225606,\n",
       "        824555.44521181,  599435.62021916, 1535420.72817636,\n",
       "        906232.46640164,  499728.23732382,  453622.51469343,\n",
       "       1656476.78430592,  563014.39318079,  835408.54590576,\n",
       "       1330479.35628696, 1302279.17207098, 1650655.77088867,\n",
       "       1133700.14845167,  763954.89608791, 1281308.95877148,\n",
       "       2581442.34829159,  643379.71779207,  794297.39885368,\n",
       "       1002665.86321574,  742693.81482715,  648779.37185863,\n",
       "        546687.66630574, 1216293.31783998,  748042.58362773,\n",
       "       1288518.03964864, 1100050.53140417,  980653.72942576,\n",
       "        956997.44260691, 1592697.28677509,  889870.18106187,\n",
       "       1196819.25022171,  652782.87812303,  503292.45424358,\n",
       "        352627.83052672, 1231307.47249846, 1250819.55775111,\n",
       "       1095898.33892768,  856285.20279429, 1328163.71511061,\n",
       "        541975.73691538, 1145626.27642408, 1051425.65050233,\n",
       "       1782059.84875284,  564737.84823097,  624912.01738356,\n",
       "        400729.00494973, 1303254.43755305, 1118190.92974868,\n",
       "        750750.63502632,  574136.59356662,  767555.10416926,\n",
       "        645534.67311047,  560067.23472497,  775710.59848427,\n",
       "       1649243.67782362,  560343.91906742,  687869.76208348,\n",
       "       1109235.71323252, 1528009.85257477,  684311.54369065,\n",
       "        491721.19329761, 1335739.02035332,  429754.24789889,\n",
       "        865881.50337954,  759423.20276252, 1096914.04206407,\n",
       "       1490700.91534635,  860889.11695816, 1049443.77929521,\n",
       "        684045.78139844, 1215507.3832422 , 1970747.79726159,\n",
       "        513615.7791609 ,  585763.62921248, 1564086.89612167,\n",
       "        788113.12370825, 1190184.32839251,  713723.4342584 ,\n",
       "        851769.27921133,  891804.49934241,  682386.99921761,\n",
       "        897474.80513507, 1361548.47959335,  502096.51763424,\n",
       "        996292.49310931,  766835.59630889,  577319.05230169,\n",
       "        909625.5839412 ,  774435.77388937, 1447800.76732872,\n",
       "       1888424.40136933, 1276491.7196156 , 1259121.24761115,\n",
       "       1579269.92691398,  758122.3864925 , 1430037.68067617,\n",
       "        672168.98665782,  380746.93241619, 1266342.35703959,\n",
       "        501188.58861704,  648800.46891583, 1524955.15851506,\n",
       "       2076586.38087943,  838713.43434912,  416681.31977535,\n",
       "        457718.90097262,  741256.7838375 ,  443701.5756397 ,\n",
       "       1495416.58592786, 1049577.0654669 ,  954846.69785795,\n",
       "        552045.97039852,  773298.74495372, 1450686.79227247,\n",
       "       1488093.763902  ,  901829.40314533,  698944.37545331,\n",
       "        516617.79999713, 1261803.07906364,  731064.55593494,\n",
       "        584689.89404043, 1935711.80881143, 1071211.92165435,\n",
       "       1103973.8259198 , 1280226.36211139,  505319.41402362,\n",
       "        686594.73047069, 1035717.32451554,  727837.85017556,\n",
       "        627270.52388647,  755758.08588853,  467656.28357294,\n",
       "       1109205.0493857 , 1436023.72935986,  462908.365613  ,\n",
       "        495699.82722424, 1207663.2168229 ,  818839.1726162 ,\n",
       "       2732494.02082647,  644804.51321257, 2784592.02918278,\n",
       "        731193.42711132, 1573680.06114109, 1548704.29385128,\n",
       "        716895.00503265])"
      ]
     },
     "execution_count": 25,
     "metadata": {},
     "output_type": "execute_result"
    }
   ],
   "source": [
    "y_pred_lr = lr.predict(x_test)\n",
    "y_pred_lr"
   ]
  },
  {
   "cell_type": "code",
   "execution_count": 26,
   "id": "999f4425-805a-4fd6-b4e6-c2ac6eaada76",
   "metadata": {},
   "outputs": [
    {
     "data": {
      "text/html": [
       "<style>#sk-container-id-3 {color: black;}#sk-container-id-3 pre{padding: 0;}#sk-container-id-3 div.sk-toggleable {background-color: white;}#sk-container-id-3 label.sk-toggleable__label {cursor: pointer;display: block;width: 100%;margin-bottom: 0;padding: 0.3em;box-sizing: border-box;text-align: center;}#sk-container-id-3 label.sk-toggleable__label-arrow:before {content: \"▸\";float: left;margin-right: 0.25em;color: #696969;}#sk-container-id-3 label.sk-toggleable__label-arrow:hover:before {color: black;}#sk-container-id-3 div.sk-estimator:hover label.sk-toggleable__label-arrow:before {color: black;}#sk-container-id-3 div.sk-toggleable__content {max-height: 0;max-width: 0;overflow: hidden;text-align: left;background-color: #f0f8ff;}#sk-container-id-3 div.sk-toggleable__content pre {margin: 0.2em;color: black;border-radius: 0.25em;background-color: #f0f8ff;}#sk-container-id-3 input.sk-toggleable__control:checked~div.sk-toggleable__content {max-height: 200px;max-width: 100%;overflow: auto;}#sk-container-id-3 input.sk-toggleable__control:checked~label.sk-toggleable__label-arrow:before {content: \"▾\";}#sk-container-id-3 div.sk-estimator input.sk-toggleable__control:checked~label.sk-toggleable__label {background-color: #d4ebff;}#sk-container-id-3 div.sk-label input.sk-toggleable__control:checked~label.sk-toggleable__label {background-color: #d4ebff;}#sk-container-id-3 input.sk-hidden--visually {border: 0;clip: rect(1px 1px 1px 1px);clip: rect(1px, 1px, 1px, 1px);height: 1px;margin: -1px;overflow: hidden;padding: 0;position: absolute;width: 1px;}#sk-container-id-3 div.sk-estimator {font-family: monospace;background-color: #f0f8ff;border: 1px dotted black;border-radius: 0.25em;box-sizing: border-box;margin-bottom: 0.5em;}#sk-container-id-3 div.sk-estimator:hover {background-color: #d4ebff;}#sk-container-id-3 div.sk-parallel-item::after {content: \"\";width: 100%;border-bottom: 1px solid gray;flex-grow: 1;}#sk-container-id-3 div.sk-label:hover label.sk-toggleable__label {background-color: #d4ebff;}#sk-container-id-3 div.sk-serial::before {content: \"\";position: absolute;border-left: 1px solid gray;box-sizing: border-box;top: 0;bottom: 0;left: 50%;z-index: 0;}#sk-container-id-3 div.sk-serial {display: flex;flex-direction: column;align-items: center;background-color: white;padding-right: 0.2em;padding-left: 0.2em;position: relative;}#sk-container-id-3 div.sk-item {position: relative;z-index: 1;}#sk-container-id-3 div.sk-parallel {display: flex;align-items: stretch;justify-content: center;background-color: white;position: relative;}#sk-container-id-3 div.sk-item::before, #sk-container-id-3 div.sk-parallel-item::before {content: \"\";position: absolute;border-left: 1px solid gray;box-sizing: border-box;top: 0;bottom: 0;left: 50%;z-index: -1;}#sk-container-id-3 div.sk-parallel-item {display: flex;flex-direction: column;z-index: 1;position: relative;background-color: white;}#sk-container-id-3 div.sk-parallel-item:first-child::after {align-self: flex-end;width: 50%;}#sk-container-id-3 div.sk-parallel-item:last-child::after {align-self: flex-start;width: 50%;}#sk-container-id-3 div.sk-parallel-item:only-child::after {width: 0;}#sk-container-id-3 div.sk-dashed-wrapped {border: 1px dashed gray;margin: 0 0.4em 0.5em 0.4em;box-sizing: border-box;padding-bottom: 0.4em;background-color: white;}#sk-container-id-3 div.sk-label label {font-family: monospace;font-weight: bold;display: inline-block;line-height: 1.2em;}#sk-container-id-3 div.sk-label-container {text-align: center;}#sk-container-id-3 div.sk-container {/* jupyter's `normalize.less` sets `[hidden] { display: none; }` but bootstrap.min.css set `[hidden] { display: none !important; }` so we also need the `!important` here to be able to override the default hidden behavior on the sphinx rendered scikit-learn.org. See: https://github.com/scikit-learn/scikit-learn/issues/21755 */display: inline-block !important;position: relative;}#sk-container-id-3 div.sk-text-repr-fallback {display: none;}</style><div id=\"sk-container-id-3\" class=\"sk-top-container\"><div class=\"sk-text-repr-fallback\"><pre>Lasso()</pre><b>In a Jupyter environment, please rerun this cell to show the HTML representation or trust the notebook. <br />On GitHub, the HTML representation is unable to render, please try loading this page with nbviewer.org.</b></div><div class=\"sk-container\" hidden><div class=\"sk-item\"><div class=\"sk-estimator sk-toggleable\"><input class=\"sk-toggleable__control sk-hidden--visually\" id=\"sk-estimator-id-3\" type=\"checkbox\" checked><label for=\"sk-estimator-id-3\" class=\"sk-toggleable__label sk-toggleable__label-arrow\">Lasso</label><div class=\"sk-toggleable__content\"><pre>Lasso()</pre></div></div></div></div></div>"
      ],
      "text/plain": [
       "Lasso()"
      ]
     },
     "execution_count": 26,
     "metadata": {},
     "output_type": "execute_result"
    }
   ],
   "source": [
    "l = Lasso()\n",
    "\n",
    "l.fit(x,y)"
   ]
  },
  {
   "cell_type": "code",
   "execution_count": 27,
   "id": "b6bf3ae8-819e-4064-a54d-5653f78e30d0",
   "metadata": {},
   "outputs": [
    {
     "data": {
      "text/plain": [
       "array([1549007.77461358, 1698284.56018555,  589317.24647838,\n",
       "       1040366.83374677, 1135078.39600818,  595998.92400769,\n",
       "        581553.71923683, 1640884.29853692,  894384.56508665,\n",
       "        490668.01972672,  936790.47979386,  656634.17493967,\n",
       "       1256863.49381575,  824683.85999807,  488575.91622083,\n",
       "       1295652.25656728, 1205692.28299115,  825491.87208226,\n",
       "        925125.15682901, 1261535.56193224,  633842.21947015,\n",
       "       1283528.94792801,  970322.39055705,  500252.87511302,\n",
       "        639257.1157412 ,  761283.55335919,  696860.37807942,\n",
       "        726352.2822266 ,  920741.50414677,  460991.09858316,\n",
       "        585535.50705388,  483146.10181576, 1751468.35065498,\n",
       "        404016.68305412, 1096485.88875534, 1020724.01716093,\n",
       "        471289.90684089, 1153786.61895991, 1159625.15339095,\n",
       "       1478781.39462937, 1618534.42839564,  738749.28687861,\n",
       "       1785903.60567471, 1112027.30110486, 1869877.43760477,\n",
       "       1687309.58832779, 1102604.15169802,  967187.51750489,\n",
       "       1254742.33424919,  611669.10793177,  751049.03885382,\n",
       "        437193.8933186 ,  534093.70164568, 1027629.19571503,\n",
       "        614536.8852545 ,  495971.92611163, 1269733.5122461 ,\n",
       "        836217.01921181,  810621.70807679,  889497.95238815,\n",
       "        710744.09206038,  591271.31657682,  979722.24688195,\n",
       "        885325.38130371, 1596088.90844681,  658711.84977149,\n",
       "        688486.29311202,  668960.99166345,  423477.29003302,\n",
       "        751801.31291111, 1611221.40205785,  677790.6915031 ,\n",
       "       1487778.58465446,  764319.09367981,  876892.47481525,\n",
       "        613464.05950041,  848423.31140409,  617619.21045152,\n",
       "        990091.91330541,  946839.59452051, 1326252.31290288,\n",
       "       1179605.4490547 ,  539829.33039107, 1248904.31050534,\n",
       "        754319.64531893,  862288.93501424, 1519554.4644647 ,\n",
       "       1117016.81948901,  829359.20702896, 2816737.35409298,\n",
       "       2413043.99184511,  820355.65459531,  614102.17143476,\n",
       "       2160361.62471234,  601713.65170056,  828865.2921981 ,\n",
       "        818257.96888823,  804535.87214409,  883421.06960595,\n",
       "        489158.4888408 ,  730181.02646727,  450794.99400628,\n",
       "        757598.64466693,  733942.37552644, 1021100.28894966,\n",
       "        377042.7318247 ,  614117.19953867,  603724.13006339,\n",
       "        872358.2413937 ,  450812.41413961,  257881.44491755,\n",
       "        571983.89195443,  637070.66227513, 1359611.66196665,\n",
       "       1044612.87167385, 1379295.47922291, 1000778.24978915,\n",
       "       1308258.51434755,  509205.98097353,  544980.57598193,\n",
       "        893552.78839555,  679083.55529776, 1340247.86778501,\n",
       "       1291763.18895338, 1474638.28032291, 1780526.55906455,\n",
       "        981497.38958013,  466300.38845674, 1211387.09184366,\n",
       "       1283787.79661438,  813718.17120047,  543102.637568  ,\n",
       "       1301079.85972048, 1335693.55268054, 1146778.73672495,\n",
       "       1028305.04734039,  913833.13542089,  652935.3090983 ,\n",
       "        851755.06061202,  546011.59963097,  961792.83082163,\n",
       "        909728.34230029, 1166906.53292613, 1984366.76636531,\n",
       "        447068.97467371, 1250032.34566416,  793590.4670342 ,\n",
       "        802287.9143801 ,  501966.20483088,  987412.1444383 ,\n",
       "       1355659.04018015,  406105.61432322, 1502293.8494487 ,\n",
       "       1957475.11051644,  547789.62381851,  498686.73395791,\n",
       "       1784568.53905769,  632707.5099281 ,  593327.90957857,\n",
       "        457123.96234898,  477278.0218641 , 1281448.39160683,\n",
       "        659772.52891103,  810574.14299301,  799205.50044044,\n",
       "        640053.07324576,  920473.5003051 ,  665963.95330622,\n",
       "        805158.57648447, 1823472.24413952,  634881.81677963,\n",
       "       1594011.85427207, 1094147.46266767,  501966.20483088,\n",
       "        972338.36237844,  576655.85010103, 1300668.54895257,\n",
       "       1493913.88824041, 1298426.37539457, 1509692.75876384,\n",
       "        536089.26187448, 1154231.08736476, 1313935.23282925,\n",
       "        877577.26165612, 1778824.15587432,  606994.17626089,\n",
       "        755612.32833605, 1219649.44587977,  624447.56585638,\n",
       "        797504.20736724,  444124.97363157, 1628631.10820607,\n",
       "        714960.65527449,  321522.88936205,  389019.83082111,\n",
       "       1135504.62491011,  584116.53652654,  123437.61228223,\n",
       "        527955.51657036,  495854.39303939,  904836.05536569,\n",
       "        801476.84002901,  541040.37033015,  911467.66581192,\n",
       "        393409.06899682, 1976486.17757649,  821293.41717394,\n",
       "       1275189.68200002,  734764.99706225,  615715.38821371,\n",
       "       1481984.24435789, 1149414.22271495, 1080880.87082591,\n",
       "       1027394.43825295,  438771.11013346, 1282603.40277158,\n",
       "        506508.59326058,  942922.39120324,  934243.16213302,\n",
       "       1124785.35072918, 1145897.29366808,  406367.34449896,\n",
       "        599468.97614325, 1054962.61596467,  888983.7359346 ,\n",
       "       1519398.31945917,  596348.91125522, 1150627.96336586,\n",
       "        808752.4353582 ,  852048.94827757,  551271.22313878,\n",
       "       1245950.93436813, 1777898.51868298, 1108257.08763783,\n",
       "        971668.49367159, 1029551.41700607,  502133.40426889,\n",
       "       1482501.94173063, 1418419.22234532, 1008503.47707211,\n",
       "       1157180.34069844, 1270759.64186641, 1932223.64416017,\n",
       "       1039041.94036716,  788856.62509963, 1117843.0319139 ,\n",
       "       1003026.20755314,  884250.07477757,  745910.23062493,\n",
       "        536418.28055412,  521817.33149504,  679468.49278184,\n",
       "       1261565.10745286,  731185.875545  ,  865759.56864465,\n",
       "       1348416.47129077,  817582.02522797,  868192.05394507,\n",
       "        571090.30228302, 2212840.32671819, 1432003.28238973,\n",
       "        724266.16163921,  664115.67038279, 1083222.66786288,\n",
       "        123437.61228223,  706818.53502245, 1154647.6504242 ,\n",
       "        562584.14559942, 1371467.56619408, 1528839.6871417 ,\n",
       "        692076.67106656,  778507.8597287 , 2064792.33112829,\n",
       "       2158060.72166818, 1118344.61229296,  737341.88147096,\n",
       "       1188585.61966377,  876795.2433657 ,  459753.77410289,\n",
       "        996893.98416907, 2481880.38655499,  477518.9609572 ,\n",
       "        541554.69675359, 1233665.43028946,  639301.19990579,\n",
       "       1034834.24156091, 1047947.77189132, 1078027.23142983,\n",
       "        973014.8167259 ,  478855.90891644,  706095.53696561,\n",
       "       1704757.70440449, 1257842.16832217,  766181.53246487,\n",
       "        979278.77862424,  873278.31431883,  762062.2007003 ,\n",
       "        521203.58359743, 1288715.12252816,  522930.95920703,\n",
       "       1008915.38726984,  627344.98073464,  741458.79997885,\n",
       "       1047266.35599975,  931134.17290474,  497602.76173642,\n",
       "       1613248.92106395, 1387011.34934578,  638000.18110298,\n",
       "        909281.99255321,  817558.24268608,  607693.50174573,\n",
       "        479957.7907312 , 1324363.51876897,  863567.06145242,\n",
       "        647314.04118836,  881285.28265278, 1078568.61930955,\n",
       "        704873.13061936,  289965.14831519,  685974.01443036,\n",
       "       1523776.49991011,  483578.02288876,  727604.16328582,\n",
       "       1156145.94610009, 1676881.32032304,  706806.29966527,\n",
       "        910947.86715718,  782219.25167467,  953480.36012203,\n",
       "       1167773.12865663, 1126348.20967761, 1371241.63397764,\n",
       "        793205.63952001,  839357.87518247, 1302255.1904429 ,\n",
       "        437728.42932982, 1254703.9243207 , 1044162.93103769,\n",
       "        700436.23861724,  876777.82323237,  540405.24985505,\n",
       "       1951184.95281954,  757072.68231615,  989004.54890736,\n",
       "        826338.38612984,  728051.00249284,  757419.40858426,\n",
       "       1336125.18300611, 1176582.74681336,  799599.48310993,\n",
       "        530086.03000474,  591106.5271032 ,  701494.03626742,\n",
       "        593527.44728393, 1007892.51862895,  811570.23763276,\n",
       "       1404803.33142848,  892180.80145713,  986404.30390132,\n",
       "        824564.02363904,  599439.81011269, 1535417.72835839,\n",
       "        906231.82484599,  499726.91276224,  453621.46197618,\n",
       "       1656468.30215167,  563019.12893933,  835409.02506259,\n",
       "       1330478.03127229, 1302275.60203547, 1650657.43189902,\n",
       "       1133700.53612115,  763957.44927768, 1281307.45548276,\n",
       "       2581431.06723878,  643379.61974256,  794298.76689679,\n",
       "       1002665.05261095,  742692.46276239,  648780.15814719,\n",
       "        546687.74200375, 1216294.13406972,  748046.30832552,\n",
       "       1288518.46631216, 1100053.55512278,  980650.76556266,\n",
       "        957000.66011821, 1592695.27874318,  889871.05194008,\n",
       "       1196818.59102183,  652785.43775871,  503291.11614547,\n",
       "        352634.18862693, 1231308.98463864, 1250819.65870062,\n",
       "       1095898.82282396,  856289.0740938 , 1328165.77975593,\n",
       "        541980.63490809, 1145627.18854442, 1051420.7267435 ,\n",
       "       1782056.26037603,  564737.95211574,  624908.94370737,\n",
       "        400728.45774317, 1303254.3685768 , 1118188.77926212,\n",
       "        750749.38820955,  574134.41626408,  767556.89035259,\n",
       "        645536.61643065,  560075.12789718,  775710.44781947,\n",
       "       1649237.39041688,  560341.86207153,  687868.97226031,\n",
       "       1109238.64363361, 1528007.69051082,  684310.6418257 ,\n",
       "        491719.94442828, 1335737.65478009,  429756.49997504,\n",
       "        865879.31296877,  759417.38206974, 1096918.59003571,\n",
       "       1490696.4111253 ,  860896.53648324, 1049440.17339134,\n",
       "        684049.38317493, 1215506.33157332, 1970741.70235821,\n",
       "        513616.69840434,  585761.41804307, 1564081.44670356,\n",
       "        788113.61616752, 1190186.9805756 ,  713726.50303101,\n",
       "        851769.68799862,  891804.5296684 ,  682386.02850525,\n",
       "        897475.46394412, 1361551.19342112,  502098.36528972,\n",
       "        996291.80139115,  766837.06453255,  577319.93789418,\n",
       "        909625.54658453,  774435.71355785, 1447796.69155712,\n",
       "       1888415.21807404, 1276485.53725393, 1259120.51470012,\n",
       "       1579263.8974278 ,  758121.61555846, 1430034.38619218,\n",
       "        672169.31362327,  380754.10583569, 1266339.68053768,\n",
       "        501187.26674234,  648803.94068908, 1524951.94060242,\n",
       "       2076580.6414617 ,  838717.75070876,  416680.69140066,\n",
       "        457723.95510227,  741258.77281354,  443707.97069259,\n",
       "       1495416.04432556, 1049581.97846542,  954846.56285446,\n",
       "        552053.53217663,  773301.36557088, 1450685.3519974 ,\n",
       "       1488086.90099408,  901833.23280248,  698946.71860658,\n",
       "        516622.78194697, 1261803.16505659,  731062.57949403,\n",
       "        584692.4739255 , 1935702.38321833, 1071213.81209397,\n",
       "       1103976.13863644, 1280223.39451864,  505324.88759024,\n",
       "        686593.72731149, 1035715.08518795,  727842.60037961,\n",
       "        627271.53182698,  755759.6089337 ,  467654.95526183,\n",
       "       1109206.50737106, 1436022.99067533,  462906.66671821,\n",
       "        495698.45003866, 1207661.09044607,  818836.58906403,\n",
       "       2732485.25634121,  644804.64399606, 2784582.10435715,\n",
       "        731195.0307003 , 1573675.05652784, 1548702.85045052,\n",
       "        716897.01449218])"
      ]
     },
     "execution_count": 27,
     "metadata": {},
     "output_type": "execute_result"
    }
   ],
   "source": [
    "y_pred_l = l.predict(x_test)\n",
    "y_pred_l"
   ]
  },
  {
   "cell_type": "code",
   "execution_count": 28,
   "id": "9dc4c825-7d57-494c-9000-18d6b1c315ee",
   "metadata": {},
   "outputs": [
    {
     "data": {
      "text/html": [
       "<style>#sk-container-id-4 {color: black;}#sk-container-id-4 pre{padding: 0;}#sk-container-id-4 div.sk-toggleable {background-color: white;}#sk-container-id-4 label.sk-toggleable__label {cursor: pointer;display: block;width: 100%;margin-bottom: 0;padding: 0.3em;box-sizing: border-box;text-align: center;}#sk-container-id-4 label.sk-toggleable__label-arrow:before {content: \"▸\";float: left;margin-right: 0.25em;color: #696969;}#sk-container-id-4 label.sk-toggleable__label-arrow:hover:before {color: black;}#sk-container-id-4 div.sk-estimator:hover label.sk-toggleable__label-arrow:before {color: black;}#sk-container-id-4 div.sk-toggleable__content {max-height: 0;max-width: 0;overflow: hidden;text-align: left;background-color: #f0f8ff;}#sk-container-id-4 div.sk-toggleable__content pre {margin: 0.2em;color: black;border-radius: 0.25em;background-color: #f0f8ff;}#sk-container-id-4 input.sk-toggleable__control:checked~div.sk-toggleable__content {max-height: 200px;max-width: 100%;overflow: auto;}#sk-container-id-4 input.sk-toggleable__control:checked~label.sk-toggleable__label-arrow:before {content: \"▾\";}#sk-container-id-4 div.sk-estimator input.sk-toggleable__control:checked~label.sk-toggleable__label {background-color: #d4ebff;}#sk-container-id-4 div.sk-label input.sk-toggleable__control:checked~label.sk-toggleable__label {background-color: #d4ebff;}#sk-container-id-4 input.sk-hidden--visually {border: 0;clip: rect(1px 1px 1px 1px);clip: rect(1px, 1px, 1px, 1px);height: 1px;margin: -1px;overflow: hidden;padding: 0;position: absolute;width: 1px;}#sk-container-id-4 div.sk-estimator {font-family: monospace;background-color: #f0f8ff;border: 1px dotted black;border-radius: 0.25em;box-sizing: border-box;margin-bottom: 0.5em;}#sk-container-id-4 div.sk-estimator:hover {background-color: #d4ebff;}#sk-container-id-4 div.sk-parallel-item::after {content: \"\";width: 100%;border-bottom: 1px solid gray;flex-grow: 1;}#sk-container-id-4 div.sk-label:hover label.sk-toggleable__label {background-color: #d4ebff;}#sk-container-id-4 div.sk-serial::before {content: \"\";position: absolute;border-left: 1px solid gray;box-sizing: border-box;top: 0;bottom: 0;left: 50%;z-index: 0;}#sk-container-id-4 div.sk-serial {display: flex;flex-direction: column;align-items: center;background-color: white;padding-right: 0.2em;padding-left: 0.2em;position: relative;}#sk-container-id-4 div.sk-item {position: relative;z-index: 1;}#sk-container-id-4 div.sk-parallel {display: flex;align-items: stretch;justify-content: center;background-color: white;position: relative;}#sk-container-id-4 div.sk-item::before, #sk-container-id-4 div.sk-parallel-item::before {content: \"\";position: absolute;border-left: 1px solid gray;box-sizing: border-box;top: 0;bottom: 0;left: 50%;z-index: -1;}#sk-container-id-4 div.sk-parallel-item {display: flex;flex-direction: column;z-index: 1;position: relative;background-color: white;}#sk-container-id-4 div.sk-parallel-item:first-child::after {align-self: flex-end;width: 50%;}#sk-container-id-4 div.sk-parallel-item:last-child::after {align-self: flex-start;width: 50%;}#sk-container-id-4 div.sk-parallel-item:only-child::after {width: 0;}#sk-container-id-4 div.sk-dashed-wrapped {border: 1px dashed gray;margin: 0 0.4em 0.5em 0.4em;box-sizing: border-box;padding-bottom: 0.4em;background-color: white;}#sk-container-id-4 div.sk-label label {font-family: monospace;font-weight: bold;display: inline-block;line-height: 1.2em;}#sk-container-id-4 div.sk-label-container {text-align: center;}#sk-container-id-4 div.sk-container {/* jupyter's `normalize.less` sets `[hidden] { display: none; }` but bootstrap.min.css set `[hidden] { display: none !important; }` so we also need the `!important` here to be able to override the default hidden behavior on the sphinx rendered scikit-learn.org. See: https://github.com/scikit-learn/scikit-learn/issues/21755 */display: inline-block !important;position: relative;}#sk-container-id-4 div.sk-text-repr-fallback {display: none;}</style><div id=\"sk-container-id-4\" class=\"sk-top-container\"><div class=\"sk-text-repr-fallback\"><pre>Ridge()</pre><b>In a Jupyter environment, please rerun this cell to show the HTML representation or trust the notebook. <br />On GitHub, the HTML representation is unable to render, please try loading this page with nbviewer.org.</b></div><div class=\"sk-container\" hidden><div class=\"sk-item\"><div class=\"sk-estimator sk-toggleable\"><input class=\"sk-toggleable__control sk-hidden--visually\" id=\"sk-estimator-id-4\" type=\"checkbox\" checked><label for=\"sk-estimator-id-4\" class=\"sk-toggleable__label sk-toggleable__label-arrow\">Ridge</label><div class=\"sk-toggleable__content\"><pre>Ridge()</pre></div></div></div></div></div>"
      ],
      "text/plain": [
       "Ridge()"
      ]
     },
     "execution_count": 28,
     "metadata": {},
     "output_type": "execute_result"
    }
   ],
   "source": [
    "ri = Ridge()\n",
    "\n",
    "ri.fit(x,y)"
   ]
  },
  {
   "cell_type": "code",
   "execution_count": 29,
   "id": "21f3db66-2f3d-4be0-a86e-8a316fa22188",
   "metadata": {},
   "outputs": [
    {
     "data": {
      "text/plain": [
       "array([1548275.12774926, 1698039.14502029,  589685.15433798,\n",
       "       1040056.24481997, 1135114.44565063,  596242.24478402,\n",
       "        581366.56728247, 1640672.07007143,  894725.97495456,\n",
       "        490577.58116215,  936907.71711711,  656382.24162668,\n",
       "       1256352.67866938,  824369.9162611 ,  488535.90534781,\n",
       "       1294834.2788205 , 1205237.91550111,  825370.61747694,\n",
       "        925125.235471  , 1261231.40182272,  634525.70266168,\n",
       "       1283157.02844551,  969811.89802815,  500150.15919189,\n",
       "        639482.99478187,  761516.83492102,  697113.54367992,\n",
       "        726058.51052429,  921156.76723747,  461287.51375335,\n",
       "        585784.60814256,  483319.4679381 , 1750926.35210327,\n",
       "        404307.80236098, 1095969.62294429, 1020651.00954158,\n",
       "        471510.53133158, 1153483.19735163, 1159403.88990818,\n",
       "       1478006.88828405, 1617326.77850587,  738806.91818839,\n",
       "       1786604.95352772, 1112301.99404347, 1868840.00257219,\n",
       "       1686562.16471969, 1103028.65996548,  967176.7573982 ,\n",
       "       1254810.9231154 ,  611686.26402736,  750970.60748337,\n",
       "        437969.1200878 ,  533954.11045546, 1027461.08936951,\n",
       "        614801.18822635,  496235.43332242, 1269482.13162089,\n",
       "        836386.24540248,  811666.8009856 ,  889631.03958556,\n",
       "        710988.28436989,  591617.34345582,  979387.47283098,\n",
       "        885379.46015485, 1595501.62000846,  658883.9014006 ,\n",
       "        689023.55388959,  669390.19253747,  423738.1607132 ,\n",
       "        751805.08286556, 1610709.68830201,  678227.13495278,\n",
       "       1486979.60999482,  764718.52266826,  877115.91909811,\n",
       "        613235.17029366,  849145.93354823,  617818.44218271,\n",
       "        990142.0267329 ,  946930.72846854, 1325714.89038829,\n",
       "       1178803.72848792,  539714.89544743, 1249643.57468719,\n",
       "        754412.23775819,  862561.28712615, 1519465.18099137,\n",
       "       1117556.83697704,  829989.89496428, 2816463.83109115,\n",
       "       2411786.06530489,  820268.59227092,  614569.9638934 ,\n",
       "       2159436.67271801,  601487.30148396,  829093.12138484,\n",
       "        818496.5463134 ,  804728.13318538,  883043.03140987,\n",
       "        490124.52077269,  730228.88546687,  451118.23853918,\n",
       "        757640.57935617,  734367.04749859, 1021200.68058821,\n",
       "        377477.99242915,  615056.24045193,  604376.79600583,\n",
       "        871926.63498247,  450786.54608085,  258260.80317203,\n",
       "        572280.26581126,  636791.97570988, 1359506.26598902,\n",
       "       1044789.53655383, 1378890.53213283, 1000254.48957565,\n",
       "       1308367.61014736,  509136.52460448,  545303.19721199,\n",
       "        893656.48255197,  679546.81885452, 1339752.10092985,\n",
       "       1292553.6637368 , 1473781.60145229, 1781460.66532964,\n",
       "        981772.1581142 ,  466255.68839801, 1211091.61994895,\n",
       "       1283813.85949736,  813924.98939208,  542985.73563321,\n",
       "       1300940.63556836, 1335447.61157833, 1146619.37515965,\n",
       "       1028381.75562234,  913798.34824949,  653337.00193299,\n",
       "        852098.32702033,  545837.75856062,  961909.89912041,\n",
       "        909757.09725143, 1166918.82173047, 1983405.59994498,\n",
       "        447035.82083989, 1250274.37698768,  793504.57675276,\n",
       "        802382.45027355,  502233.00170745,  987500.49459959,\n",
       "       1354815.43613757,  406149.23635278, 1501020.51564314,\n",
       "       1956519.05087601,  548123.60407607,  498633.62819788,\n",
       "       1783727.60018261,  632813.02290907,  593531.32461643,\n",
       "        457088.28392481,  477179.56639282, 1280754.20843935,\n",
       "        659864.80300699,  810833.02393708,  799172.27992741,\n",
       "        639777.61360292,  920043.11136058,  666444.49094522,\n",
       "        805084.6522465 , 1822727.09295559,  634918.92565476,\n",
       "       1593980.4356319 , 1094348.23038448,  502233.00170745,\n",
       "        972238.84630343,  576931.85769559, 1300634.30177959,\n",
       "       1493214.9565776 , 1298125.15421146, 1508969.3011875 ,\n",
       "        536584.45968781, 1155117.50702775, 1313761.92748314,\n",
       "        878039.14763795, 1778036.20322491,  607254.47797929,\n",
       "        755659.97133864, 1219246.27115671,  624188.50002196,\n",
       "        797447.42246914,  444427.13517034, 1628183.56690582,\n",
       "        715347.18616728,  321803.32643198,  390027.1897808 ,\n",
       "       1135679.92472892,  584486.29133259,  123716.17120509,\n",
       "        527817.60364045,  496115.46205863,  905052.75780774,\n",
       "        801408.63850419,  541462.3503979 ,  911366.9089531 ,\n",
       "        393412.14569923, 1975338.07353726,  821819.20012913,\n",
       "       1274369.43885928,  734979.71507614,  616201.14268683,\n",
       "       1481272.40500546, 1148854.50333599, 1081099.63861243,\n",
       "       1027868.32576973,  438753.47497841, 1282036.35596587,\n",
       "        506406.6372707 ,  942488.55933932,  934645.30153711,\n",
       "       1124693.74853687, 1145833.1563157 ,  406707.22763687,\n",
       "        599568.99166368, 1056466.62066192,  889164.79823221,\n",
       "       1518862.09230357,  596965.86505423, 1150431.16819742,\n",
       "        809087.03498277,  852511.82081432,  551089.20676392,\n",
       "       1246123.80165455, 1777036.49681378, 1108006.088777  ,\n",
       "        971574.76305311, 1030184.95490525,  502069.6994126 ,\n",
       "       1482586.06710916, 1417643.69087486, 1008423.2556767 ,\n",
       "       1156775.16903344, 1271425.49973423, 1932228.90828478,\n",
       "       1039456.28701486,  788706.3230485 , 1119244.05657396,\n",
       "       1002600.17248748,  884438.49484924,  746266.50363541,\n",
       "        536633.65015546,  521681.09682543,  679834.18547709,\n",
       "       1261450.61081146,  731164.5273081 ,  866486.19718642,\n",
       "       1348203.66939808,  817696.84612906,  868457.85141358,\n",
       "        570908.93064101, 2211831.18348724, 1431616.49976465,\n",
       "        724273.41771246,  664573.36962419, 1083341.32065358,\n",
       "        123716.17120509,  707141.71613427, 1154472.81715266,\n",
       "        562931.82227745, 1371016.12100523, 1529170.04210015,\n",
       "        692178.5158755 ,  778467.4974386 , 2064164.3225154 ,\n",
       "       2156633.00781498, 1118406.05235191,  737495.55452411,\n",
       "       1188634.35551633,  876565.41560822,  459714.00802646,\n",
       "        996686.03379573, 2480411.24864749,  477448.9606539 ,\n",
       "        542155.72302027, 1233428.17807871,  639469.35108004,\n",
       "       1035255.12845222, 1047907.95696923, 1077225.64886356,\n",
       "        973791.8906161 ,  478755.00085381,  706261.58302974,\n",
       "       1704412.99554698, 1257689.40100321,  766178.67577691,\n",
       "        979225.6365323 ,  873544.06858793,  762370.27746941,\n",
       "        521361.35493056, 1288274.86168319,  522806.09796473,\n",
       "       1009675.84998359,  627401.66714119,  742087.70696924,\n",
       "       1047605.01791072,  931309.99882426,  497954.96731633,\n",
       "       1612775.49238547, 1386496.30820831,  639165.31573069,\n",
       "        909694.10072051,  817279.9576048 ,  607944.85382857,\n",
       "        479821.09852613, 1324583.86745095,  863693.77605965,\n",
       "        647495.94638228,  881541.21215668, 1079077.16556002,\n",
       "        704947.22259237,  290294.63721217,  686517.80105173,\n",
       "       1523327.32166293,  483842.4484286 ,  727747.26089813,\n",
       "       1155620.31820347, 1676088.3220894 ,  706363.68341819,\n",
       "        911170.29745656,  782589.85143867,  953701.70443894,\n",
       "       1167290.71433717, 1125782.90643932, 1371198.78842345,\n",
       "        793444.3413992 ,  839277.96903495, 1302140.34820631,\n",
       "        438352.92655257, 1254433.97089192, 1043651.98800354,\n",
       "        700535.57323563,  876897.10806655,  540255.84829942,\n",
       "       1951452.17057317,  757115.43453584,  988808.86149078,\n",
       "        826627.30484777,  728529.38667815,  757445.89659373,\n",
       "       1335671.51047853, 1177012.45151661,  799689.34010601,\n",
       "        530236.23167827,  591310.77407132,  701615.31460978,\n",
       "        593295.47515278, 1008125.64008256,  811838.05381258,\n",
       "       1404810.6557405 ,  892593.77960991,  986436.5612571 ,\n",
       "        825260.83040395,  599841.78065503, 1534359.61831524,\n",
       "        906532.34927406,  499625.01437156,  453606.95294494,\n",
       "       1655113.07730053,  563427.91332147,  835733.64152416,\n",
       "       1330530.61701072, 1301936.94724923, 1650982.90687791,\n",
       "       1134022.29097508,  764128.91532084, 1280709.34663137,\n",
       "       2579575.42685087,  643491.63491191,  794579.82710579,\n",
       "       1002729.69438917,  742741.84162449,  648753.73004395,\n",
       "        547057.50640375, 1216331.25169838,  748067.40447891,\n",
       "       1288411.87137908, 1100024.98883565,  980288.33947436,\n",
       "        957343.34094057, 1592088.68225816,  889980.46880966,\n",
       "       1196293.65071913,  653289.57783801,  503181.05685008,\n",
       "        353369.98518938, 1231192.21745911, 1250865.51511201,\n",
       "       1096316.02714344,  856833.34859794, 1328508.14395831,\n",
       "        542422.12050826, 1145836.55104597, 1051170.07896037,\n",
       "       1781221.84734476,  565048.20959044,  624737.77311141,\n",
       "        400777.81688568, 1303152.70351457, 1118136.26013365,\n",
       "        750754.7932249 ,  573969.28003269,  767861.6682003 ,\n",
       "        646156.36138494,  560819.22765192,  775478.86277248,\n",
       "       1648367.29763823,  560195.54344031,  687977.35731286,\n",
       "       1109243.97134308, 1527646.28715953,  684450.76656783,\n",
       "        491627.87080281, 1335782.06521402,  430112.44572597,\n",
       "        865716.24911206,  759292.49168846, 1097510.81427419,\n",
       "       1489989.37615697,  861701.98514117, 1048991.79140731,\n",
       "        684263.80719533, 1215020.98432494, 1969767.64264806,\n",
       "        513949.25445383,  585567.72584511, 1563309.6447764 ,\n",
       "        788555.80376037, 1189979.49957377,  713973.92226293,\n",
       "        852058.39071954,  892044.10856328,  682544.87004895,\n",
       "        897601.89055536, 1361671.30779742,  502313.03667046,\n",
       "        996353.24504656,  767181.77691832,  577445.52314393,\n",
       "        909824.32095587,  775000.87819955, 1447137.99168399,\n",
       "       1887326.99569324, 1275817.41426228, 1259276.15247475,\n",
       "       1578533.52110161,  758037.43267525, 1429304.1992888 ,\n",
       "        672158.94813305,  381252.2490917 , 1265963.02867007,\n",
       "        501080.47756876,  649170.61856821, 1524754.16556989,\n",
       "       2075221.91696197,  839253.14243216,  416697.39252454,\n",
       "        458345.20689137,  741604.42718379,  444163.29996936,\n",
       "       1495701.87635885, 1050247.78044447,  954927.87203729,\n",
       "        552862.02038395,  773432.0990895 , 1450420.5468375 ,\n",
       "       1486933.11982923,  902270.52087178,  699352.89902978,\n",
       "        517124.64960211, 1261818.8448403 ,  731242.23557983,\n",
       "        585375.34152209, 1935327.56561963, 1071462.83365134,\n",
       "       1104091.36290754, 1279837.76936004,  505768.31064711,\n",
       "        686746.02861159, 1035095.08677805,  728607.49290706,\n",
       "        627268.05217556,  756105.3167917 ,  467650.0837984 ,\n",
       "       1109422.68371241, 1435692.36359913,  462963.71671621,\n",
       "        495618.53857135, 1207357.29958718,  818866.70907634,\n",
       "       2730644.81424001,  644891.35377666, 2782759.28381942,\n",
       "        731621.35213315, 1572812.83477186, 1548976.12227542,\n",
       "        717311.98615314])"
      ]
     },
     "execution_count": 29,
     "metadata": {},
     "output_type": "execute_result"
    }
   ],
   "source": [
    "y_pred_ri = ri.predict(x_test)\n",
    "y_pred_ri"
   ]
  },
  {
   "cell_type": "code",
   "execution_count": 30,
   "id": "483075c7-ec07-4315-b009-2597b0910db8",
   "metadata": {},
   "outputs": [
    {
     "data": {
      "text/plain": [
       "Text(0.5, 1.0, 'Actual price V/S Predicted price of Linear Regression')"
      ]
     },
     "execution_count": 30,
     "metadata": {},
     "output_type": "execute_result"
    },
    {
     "data": {
      "image/png": "[encoded data removed]",
      "text/plain": [
       "<Figure size 640x480 with 1 Axes>"
      ]
     },
     "metadata": {},
     "output_type": "display_data"
    }
   ],
   "source": [
    "plt.scatter(y_test,y_pred_lr, s=10)\n",
    "plt.xlabel(\"Actual price\")\n",
    "plt.ylabel(\"Predicted price\")\n",
    "plt.grid()\n",
    "plt.plot([min(y_test),max(y_test)],[min(y_pred_lr),max(y_pred_lr)],color=\"red\")\n",
    "plt.title(\"Actual price V/S Predicted price of Linear Regression\")"
   ]
  },
  {
   "cell_type": "code",
   "execution_count": 31,
   "id": "a163049d-ff0e-4a93-9d1a-7a51ee0ed99f",
   "metadata": {},
   "outputs": [
    {
     "data": {
      "text/plain": [
       "Text(0.5, 1.0, 'Actual price V/S Predicted price of Lasso')"
      ]
     },
     "execution_count": 31,
     "metadata": {},
     "output_type": "execute_result"
    },
    {
     "data": {
      "image/png": "[encoded data removed]",
      "text/plain": [
       "<Figure size 640x480 with 1 Axes>"
      ]
     },
     "metadata": {},
     "output_type": "display_data"
    }
   ],
   "source": [
    "plt.scatter(y_test,y_pred_l, s=10)\n",
    "plt.xlabel(\"Actual price\")\n",
    "plt.ylabel(\"Predicted price\")\n",
    "plt.grid()\n",
    "plt.plot([min(y_test),max(y_test)],[min(y_pred_l),max(y_pred_l)],color=\"red\")\n",
    "plt.title(\"Actual price V/S Predicted price of Lasso\")"
   ]
  },
  {
   "cell_type": "code",
   "execution_count": 32,
   "id": "30afa7b0-abc6-4aac-8698-3d8e63831b85",
   "metadata": {},
   "outputs": [
    {
     "data": {
      "text/plain": [
       "Text(0.5, 1.0, 'Actual price V/S Predicted price of Ridge')"
      ]
     },
     "execution_count": 32,
     "metadata": {},
     "output_type": "execute_result"
    },
    {
     "data": {
      "image/png": "[encoded data removed]",
      "text/plain": [
       "<Figure size 640x480 with 1 Axes>"
      ]
     },
     "metadata": {},
     "output_type": "display_data"
    }
   ],
   "source": [
    "plt.scatter(y_test,y_pred_ri, s=10)\n",
    "plt.xlabel(\"Actual price\")\n",
    "plt.ylabel(\"Predicted price\")\n",
    "plt.grid()\n",
    "plt.plot([min(y_test),max(y_test)],[min(y_pred_ri),max(y_pred_ri)],color=\"red\")\n",
    "plt.title(\"Actual price V/S Predicted price of Ridge\")"
   ]
  },
  {
   "cell_type": "code",
   "execution_count": 33,
   "id": "68a3fa24-d815-41a1-a1c5-bebcbbc1cc2b",
   "metadata": {},
   "outputs": [
    {
     "name": "stdout",
     "output_type": "stream",
     "text": [
      "0.5309546606823233\n",
      "0.5309547284327523\n",
      "0.5309804145860908\n"
     ]
    }
   ],
   "source": [
    "print(r2_score(y_test,y_pred_lr))\n",
    "print(r2_score(y_test,y_pred_l))\n",
    "print(r2_score(y_test,y_pred_ri))"
   ]
  },
  {
   "cell_type": "markdown",
   "id": "edac949a-8247-4485-8d1f-944d4c06b841",
   "metadata": {},
   "source": [
    "**DEPLOYMENT**"
   ]
  },
  {
   "cell_type": "code",
   "execution_count": 34,
   "id": "3a314241-4e96-4adc-8c04-d7d2ce5cdfbb",
   "metadata": {},
   "outputs": [],
   "source": [
    "import pickle"
   ]
  },
  {
   "cell_type": "code",
   "execution_count": 38,
   "id": "02c32084-38fd-4953-9ef9-efd080fd53b5",
   "metadata": {},
   "outputs": [],
   "source": [
    "pickle.dump(ri,open(\"RidgeModel.pkl\",\"wb\"))"
   ]
  },
  {
   "cell_type": "code",
   "execution_count": null,
   "id": "e680ae93-1ff2-46a6-8ad4-209881f5703e",
   "metadata": {},
   "outputs": [],
   "source": []
  }
 ],
 "metadata": {
  "kernelspec": {
   "display_name": "Python 3 (ipykernel)",
   "language": "python",
   "name": "python3"
  },
  "language_info": {
   "codemirror_mode": {
    "name": "ipython",
    "version": 3
   },
   "file_extension": ".py",
   "mimetype": "text/x-python",
   "name": "python",
   "nbconvert_exporter": "python",
   "pygments_lexer": "ipython3",
   "version": "3.11.0"
  }
 },
 "nbformat": 4,
 "nbformat_minor": 5
}
